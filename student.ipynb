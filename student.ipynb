{
 "cells": [
  {
   "cell_type": "markdown",
   "metadata": {},
   "source": [
    "# Module 2 Final Project Submission\n",
    "\n",
    "* Student name: Bronwen Cohn-Cort\n",
    "* Student pace: Self-paced\n",
    "* Scheduled project review date/time: \n",
    "* Instructor name: "
   ]
  },
  {
   "cell_type": "markdown",
   "metadata": {},
   "source": [
    "## Preliminary Exploration of Dataset"
   ]
  },
  {
   "cell_type": "markdown",
   "metadata": {},
   "source": [
    "Schema for the Northwind database:\n",
    "\n",
    "<img src='Northwind_ERD.png'>"
   ]
  },
  {
   "cell_type": "code",
   "execution_count": 1,
   "metadata": {},
   "outputs": [
    {
     "name": "stdout",
     "output_type": "stream",
     "text": [
      "['Category', 'Customer', 'CustomerCustomerDemo', 'CustomerDemographic', 'Employee', 'EmployeeTerritory', 'OrderDetail', 'Orders', 'Product', 'Region', 'Shipper', 'Supplier', 'Territory']\n"
     ]
    }
   ],
   "source": [
    "#SQLite block setting up for importing the data, looking at table names\n",
    "import sqlalchemy\n",
    "from sqlalchemy import create_engine\n",
    "from sqlalchemy import inspect\n",
    "\n",
    "myengine = create_engine(\"sqlite:///Northwind_small.sqlite\")\n",
    "inspector = inspect(myengine)\n",
    "\n",
    "print(inspector.get_table_names())#check the table names in Northwind"
   ]
  },
  {
   "cell_type": "markdown",
   "metadata": {},
   "source": [
    "Most table names are spelled differently than in the provided schema: \"Category\", \"Customer\", \"CustomerDemographic\", \"Employee\", \"EmployeeTerritory\", \"Order\", \"OrderDetail\", \"Product\", \"Shipper\", \"Supplier\", and \"Territory\"."
   ]
  },
  {
   "cell_type": "markdown",
   "metadata": {},
   "source": [
    "## Hypothesis 1 (Given): Discounts affecting Product Quantity"
   ]
  },
  {
   "cell_type": "markdown",
   "metadata": {},
   "source": [
    "According to the schema, the discount amount is in the OrderDetail table, along with the quantity of a product."
   ]
  },
  {
   "cell_type": "code",
   "execution_count": 2,
   "metadata": {},
   "outputs": [
    {
     "data": {
      "text/plain": [
       "['Id', 'OrderId', 'ProductId', 'UnitPrice', 'Quantity', 'Discount']"
      ]
     },
     "execution_count": 2,
     "metadata": {},
     "output_type": "execute_result"
    }
   ],
   "source": [
    "conn = myengine.connect() #connecting to engine\n",
    "orderDetails = conn.execute('''SELECT * FROM OrderDetail;''').fetchall()\n",
    "\n",
    "#make list of column names\n",
    "cols = inspector.get_columns(\"OrderDetail\")\n",
    "ordDetCols = []\n",
    "for col in cols:\n",
    "    ordDetCols.append(col['name'])\n",
    "ordDetCols"
   ]
  },
  {
   "cell_type": "code",
   "execution_count": 3,
   "metadata": {},
   "outputs": [
    {
     "data": {
      "text/html": [
       "<div>\n",
       "<style scoped>\n",
       "    .dataframe tbody tr th:only-of-type {\n",
       "        vertical-align: middle;\n",
       "    }\n",
       "\n",
       "    .dataframe tbody tr th {\n",
       "        vertical-align: top;\n",
       "    }\n",
       "\n",
       "    .dataframe thead th {\n",
       "        text-align: right;\n",
       "    }\n",
       "</style>\n",
       "<table border=\"1\" class=\"dataframe\">\n",
       "  <thead>\n",
       "    <tr style=\"text-align: right;\">\n",
       "      <th></th>\n",
       "      <th>Id</th>\n",
       "      <th>OrderId</th>\n",
       "      <th>ProductId</th>\n",
       "      <th>UnitPrice</th>\n",
       "      <th>Quantity</th>\n",
       "      <th>Discount</th>\n",
       "    </tr>\n",
       "  </thead>\n",
       "  <tbody>\n",
       "    <tr>\n",
       "      <th>0</th>\n",
       "      <td>10248/11</td>\n",
       "      <td>10248</td>\n",
       "      <td>11</td>\n",
       "      <td>14.0</td>\n",
       "      <td>12</td>\n",
       "      <td>0.0</td>\n",
       "    </tr>\n",
       "    <tr>\n",
       "      <th>1</th>\n",
       "      <td>10248/42</td>\n",
       "      <td>10248</td>\n",
       "      <td>42</td>\n",
       "      <td>9.8</td>\n",
       "      <td>10</td>\n",
       "      <td>0.0</td>\n",
       "    </tr>\n",
       "    <tr>\n",
       "      <th>2</th>\n",
       "      <td>10248/72</td>\n",
       "      <td>10248</td>\n",
       "      <td>72</td>\n",
       "      <td>34.8</td>\n",
       "      <td>5</td>\n",
       "      <td>0.0</td>\n",
       "    </tr>\n",
       "  </tbody>\n",
       "</table>\n",
       "</div>"
      ],
      "text/plain": [
       "         Id  OrderId  ProductId  UnitPrice  Quantity  Discount\n",
       "0  10248/11    10248         11       14.0        12       0.0\n",
       "1  10248/42    10248         42        9.8        10       0.0\n",
       "2  10248/72    10248         72       34.8         5       0.0"
      ]
     },
     "execution_count": 3,
     "metadata": {},
     "output_type": "execute_result"
    }
   ],
   "source": [
    "#putting OrderDetail table into pandas DataFrame\n",
    "import pandas as pd\n",
    "ordDetdf = pd.DataFrame(orderDetails, columns=ordDetCols)\n",
    "#saving DataFrame as CSV file to more easily access subsequently\n",
    "ordDetdf.to_csv(path_or_buf=\"OrderDetail.csv\")\n",
    "ordDetdf.head(3)"
   ]
  },
  {
   "cell_type": "code",
   "execution_count": 4,
   "metadata": {},
   "outputs": [],
   "source": [
    "#code to get CSV file back into DataFrame\n",
    "import pandas as pd\n",
    "ordDetdf = pd.read_csv(\"OrderDetail.csv\")"
   ]
  },
  {
   "cell_type": "code",
   "execution_count": 5,
   "metadata": {},
   "outputs": [
    {
     "name": "stdout",
     "output_type": "stream",
     "text": [
      "<class 'pandas.core.frame.DataFrame'>\n",
      "RangeIndex: 2155 entries, 0 to 2154\n",
      "Data columns (total 6 columns):\n",
      "Id           2155 non-null object\n",
      "OrderId      2155 non-null int64\n",
      "ProductId    2155 non-null int64\n",
      "UnitPrice    2155 non-null float64\n",
      "Quantity     2155 non-null int64\n",
      "Discount     2155 non-null float64\n",
      "dtypes: float64(2), int64(3), object(1)\n",
      "memory usage: 101.1+ KB\n"
     ]
    }
   ],
   "source": [
    "#looking at aspects of the DataFrame with .info()\n",
    "ordDetdf.drop(columns=[\"Unnamed: 0\"], inplace=True)\n",
    "ordDetdf.info()"
   ]
  },
  {
   "cell_type": "code",
   "execution_count": 26,
   "metadata": {},
   "outputs": [
    {
     "data": {
      "text/html": [
       "<div>\n",
       "<style scoped>\n",
       "    .dataframe tbody tr th:only-of-type {\n",
       "        vertical-align: middle;\n",
       "    }\n",
       "\n",
       "    .dataframe tbody tr th {\n",
       "        vertical-align: top;\n",
       "    }\n",
       "\n",
       "    .dataframe thead th {\n",
       "        text-align: right;\n",
       "    }\n",
       "</style>\n",
       "<table border=\"1\" class=\"dataframe\">\n",
       "  <thead>\n",
       "    <tr style=\"text-align: right;\">\n",
       "      <th></th>\n",
       "      <th>OrderId</th>\n",
       "      <th>ProductId</th>\n",
       "      <th>UnitPrice</th>\n",
       "      <th>Quantity</th>\n",
       "      <th>Discount</th>\n",
       "    </tr>\n",
       "  </thead>\n",
       "  <tbody>\n",
       "    <tr>\n",
       "      <th>count</th>\n",
       "      <td>2155.000000</td>\n",
       "      <td>2155.000000</td>\n",
       "      <td>2155.000000</td>\n",
       "      <td>2155.000000</td>\n",
       "      <td>2155.000000</td>\n",
       "    </tr>\n",
       "    <tr>\n",
       "      <th>mean</th>\n",
       "      <td>10659.375870</td>\n",
       "      <td>40.793039</td>\n",
       "      <td>26.218520</td>\n",
       "      <td>23.812993</td>\n",
       "      <td>0.056167</td>\n",
       "    </tr>\n",
       "    <tr>\n",
       "      <th>std</th>\n",
       "      <td>241.378032</td>\n",
       "      <td>22.159019</td>\n",
       "      <td>29.827418</td>\n",
       "      <td>19.022047</td>\n",
       "      <td>0.083450</td>\n",
       "    </tr>\n",
       "    <tr>\n",
       "      <th>min</th>\n",
       "      <td>10248.000000</td>\n",
       "      <td>1.000000</td>\n",
       "      <td>2.000000</td>\n",
       "      <td>1.000000</td>\n",
       "      <td>0.000000</td>\n",
       "    </tr>\n",
       "    <tr>\n",
       "      <th>25%</th>\n",
       "      <td>10451.000000</td>\n",
       "      <td>22.000000</td>\n",
       "      <td>12.000000</td>\n",
       "      <td>10.000000</td>\n",
       "      <td>0.000000</td>\n",
       "    </tr>\n",
       "    <tr>\n",
       "      <th>50%</th>\n",
       "      <td>10657.000000</td>\n",
       "      <td>41.000000</td>\n",
       "      <td>18.400000</td>\n",
       "      <td>20.000000</td>\n",
       "      <td>0.000000</td>\n",
       "    </tr>\n",
       "    <tr>\n",
       "      <th>75%</th>\n",
       "      <td>10862.500000</td>\n",
       "      <td>60.000000</td>\n",
       "      <td>32.000000</td>\n",
       "      <td>30.000000</td>\n",
       "      <td>0.100000</td>\n",
       "    </tr>\n",
       "    <tr>\n",
       "      <th>max</th>\n",
       "      <td>11077.000000</td>\n",
       "      <td>77.000000</td>\n",
       "      <td>263.500000</td>\n",
       "      <td>130.000000</td>\n",
       "      <td>0.250000</td>\n",
       "    </tr>\n",
       "  </tbody>\n",
       "</table>\n",
       "</div>"
      ],
      "text/plain": [
       "            OrderId    ProductId    UnitPrice     Quantity     Discount\n",
       "count   2155.000000  2155.000000  2155.000000  2155.000000  2155.000000\n",
       "mean   10659.375870    40.793039    26.218520    23.812993     0.056167\n",
       "std      241.378032    22.159019    29.827418    19.022047     0.083450\n",
       "min    10248.000000     1.000000     2.000000     1.000000     0.000000\n",
       "25%    10451.000000    22.000000    12.000000    10.000000     0.000000\n",
       "50%    10657.000000    41.000000    18.400000    20.000000     0.000000\n",
       "75%    10862.500000    60.000000    32.000000    30.000000     0.100000\n",
       "max    11077.000000    77.000000   263.500000   130.000000     0.250000"
      ]
     },
     "execution_count": 26,
     "metadata": {},
     "output_type": "execute_result"
    }
   ],
   "source": [
    "ordDetdf.describe()"
   ]
  },
  {
   "cell_type": "markdown",
   "metadata": {},
   "source": [
    "None of the values are null, but since Discount and Quantity are the relevant columns for this hypothesis, I will look at them at another level of detail."
   ]
  },
  {
   "cell_type": "code",
   "execution_count": 6,
   "metadata": {},
   "outputs": [
    {
     "data": {
      "text/plain": [
       "0.00    1317\n",
       "0.05     185\n",
       "0.10     173\n",
       "0.20     161\n",
       "0.15     157\n",
       "0.25     154\n",
       "0.03       3\n",
       "0.02       2\n",
       "0.01       1\n",
       "0.04       1\n",
       "0.06       1\n",
       "Name: Discount, dtype: int64"
      ]
     },
     "execution_count": 6,
     "metadata": {},
     "output_type": "execute_result"
    }
   ],
   "source": [
    "#frequencies of the unique values in Discount\n",
    "ordDetdf.Discount.value_counts()"
   ]
  },
  {
   "cell_type": "markdown",
   "metadata": {},
   "source": [
    "Since Discount appears to be a discrete variable, I will drop the values that appear 3 or fewer times (.01 to .06 at intervals of .01, excluding .05)."
   ]
  },
  {
   "cell_type": "code",
   "execution_count": 7,
   "metadata": {},
   "outputs": [
    {
     "name": "stdout",
     "output_type": "stream",
     "text": [
      "The least frequent discount values appear in 0.37% of the records.\n"
     ]
    }
   ],
   "source": [
    "#Dropping all very infrequent discount values\n",
    "import numpy as np\n",
    "appearances=3+2+(1*3) #8\n",
    "print(f\"The least frequent discount values appear in {round(appearances/2155*100,2)}% of the records.\")\n",
    "#replacing the values that appear a total of 8 times as NaN\n",
    "ordDetdf.Discount = ordDetdf[\"Discount\"].replace(to_replace=[0.01,0.02,0.03,0.04,0.06],value=np.nan)"
   ]
  },
  {
   "cell_type": "code",
   "execution_count": 8,
   "metadata": {},
   "outputs": [
    {
     "data": {
      "text/html": [
       "<div>\n",
       "<style scoped>\n",
       "    .dataframe tbody tr th:only-of-type {\n",
       "        vertical-align: middle;\n",
       "    }\n",
       "\n",
       "    .dataframe tbody tr th {\n",
       "        vertical-align: top;\n",
       "    }\n",
       "\n",
       "    .dataframe thead th {\n",
       "        text-align: right;\n",
       "    }\n",
       "</style>\n",
       "<table border=\"1\" class=\"dataframe\">\n",
       "  <thead>\n",
       "    <tr style=\"text-align: right;\">\n",
       "      <th></th>\n",
       "      <th>OrderId</th>\n",
       "      <th>ProductId</th>\n",
       "      <th>UnitPrice</th>\n",
       "      <th>Quantity</th>\n",
       "      <th>Discount</th>\n",
       "    </tr>\n",
       "  </thead>\n",
       "  <tbody>\n",
       "    <tr>\n",
       "      <th>count</th>\n",
       "      <td>2147.000000</td>\n",
       "      <td>2147.000000</td>\n",
       "      <td>2147.000000</td>\n",
       "      <td>2147.000000</td>\n",
       "      <td>2147.000000</td>\n",
       "    </tr>\n",
       "    <tr>\n",
       "      <th>mean</th>\n",
       "      <td>10657.819748</td>\n",
       "      <td>40.805776</td>\n",
       "      <td>26.203987</td>\n",
       "      <td>23.895203</td>\n",
       "      <td>0.056265</td>\n",
       "    </tr>\n",
       "    <tr>\n",
       "      <th>std</th>\n",
       "      <td>240.474433</td>\n",
       "      <td>22.148297</td>\n",
       "      <td>29.855453</td>\n",
       "      <td>19.009580</td>\n",
       "      <td>0.083586</td>\n",
       "    </tr>\n",
       "    <tr>\n",
       "      <th>min</th>\n",
       "      <td>10248.000000</td>\n",
       "      <td>1.000000</td>\n",
       "      <td>2.000000</td>\n",
       "      <td>1.000000</td>\n",
       "      <td>0.000000</td>\n",
       "    </tr>\n",
       "    <tr>\n",
       "      <th>25%</th>\n",
       "      <td>10450.000000</td>\n",
       "      <td>22.000000</td>\n",
       "      <td>12.000000</td>\n",
       "      <td>10.000000</td>\n",
       "      <td>0.000000</td>\n",
       "    </tr>\n",
       "    <tr>\n",
       "      <th>50%</th>\n",
       "      <td>10657.000000</td>\n",
       "      <td>41.000000</td>\n",
       "      <td>18.400000</td>\n",
       "      <td>20.000000</td>\n",
       "      <td>0.000000</td>\n",
       "    </tr>\n",
       "    <tr>\n",
       "      <th>75%</th>\n",
       "      <td>10861.000000</td>\n",
       "      <td>60.000000</td>\n",
       "      <td>32.000000</td>\n",
       "      <td>30.000000</td>\n",
       "      <td>0.100000</td>\n",
       "    </tr>\n",
       "    <tr>\n",
       "      <th>max</th>\n",
       "      <td>11077.000000</td>\n",
       "      <td>77.000000</td>\n",
       "      <td>263.500000</td>\n",
       "      <td>130.000000</td>\n",
       "      <td>0.250000</td>\n",
       "    </tr>\n",
       "  </tbody>\n",
       "</table>\n",
       "</div>"
      ],
      "text/plain": [
       "            OrderId    ProductId    UnitPrice     Quantity     Discount\n",
       "count   2147.000000  2147.000000  2147.000000  2147.000000  2147.000000\n",
       "mean   10657.819748    40.805776    26.203987    23.895203     0.056265\n",
       "std      240.474433    22.148297    29.855453    19.009580     0.083586\n",
       "min    10248.000000     1.000000     2.000000     1.000000     0.000000\n",
       "25%    10450.000000    22.000000    12.000000    10.000000     0.000000\n",
       "50%    10657.000000    41.000000    18.400000    20.000000     0.000000\n",
       "75%    10861.000000    60.000000    32.000000    30.000000     0.100000\n",
       "max    11077.000000    77.000000   263.500000   130.000000     0.250000"
      ]
     },
     "execution_count": 8,
     "metadata": {},
     "output_type": "execute_result"
    }
   ],
   "source": [
    "#having now changed to NaN values, can easily use dropna to remove those rows\n",
    "ordDetdf.dropna(axis='index',how='any',inplace=True)\n",
    "ordDetdf.describe()"
   ]
  },
  {
   "cell_type": "code",
   "execution_count": 9,
   "metadata": {},
   "outputs": [
    {
     "data": {
      "text/plain": [
       "0.00    1317\n",
       "0.05     185\n",
       "0.10     173\n",
       "0.20     161\n",
       "0.15     157\n",
       "0.25     154\n",
       "Name: Discount, dtype: int64"
      ]
     },
     "execution_count": 9,
     "metadata": {},
     "output_type": "execute_result"
    }
   ],
   "source": [
    "ordDetdf.Discount.value_counts()"
   ]
  },
  {
   "cell_type": "markdown",
   "metadata": {},
   "source": [
    "The Discount values have been adjusted accordingly.\n",
    "\n",
    "A check for null values:"
   ]
  },
  {
   "cell_type": "code",
   "execution_count": 10,
   "metadata": {},
   "outputs": [
    {
     "data": {
      "text/plain": [
       "Id           0\n",
       "OrderId      0\n",
       "ProductId    0\n",
       "UnitPrice    0\n",
       "Quantity     0\n",
       "Discount     0\n",
       "dtype: int64"
      ]
     },
     "execution_count": 10,
     "metadata": {},
     "output_type": "execute_result"
    }
   ],
   "source": [
    "ordDetdf.isna().sum()"
   ]
  },
  {
   "cell_type": "markdown",
   "metadata": {},
   "source": [
    "The appropriate records have been removed from the DataFrame, as there are now 2147 records and no Null values in the DataFrame.  The following will now convert the Discount column to a categorical type and then to dummy columns for each value: 0.00, 0.05, 0.10, 0.15, 0.20 and 0.25."
   ]
  },
  {
   "cell_type": "code",
   "execution_count": 11,
   "metadata": {},
   "outputs": [
    {
     "data": {
      "text/html": [
       "<div>\n",
       "<style scoped>\n",
       "    .dataframe tbody tr th:only-of-type {\n",
       "        vertical-align: middle;\n",
       "    }\n",
       "\n",
       "    .dataframe tbody tr th {\n",
       "        vertical-align: top;\n",
       "    }\n",
       "\n",
       "    .dataframe thead th {\n",
       "        text-align: right;\n",
       "    }\n",
       "</style>\n",
       "<table border=\"1\" class=\"dataframe\">\n",
       "  <thead>\n",
       "    <tr style=\"text-align: right;\">\n",
       "      <th></th>\n",
       "      <th>Id</th>\n",
       "      <th>Quantity</th>\n",
       "      <th>disc_0.0</th>\n",
       "      <th>disc_0.05</th>\n",
       "      <th>disc_0.1</th>\n",
       "      <th>disc_0.15</th>\n",
       "      <th>disc_0.2</th>\n",
       "      <th>disc_0.25</th>\n",
       "    </tr>\n",
       "  </thead>\n",
       "  <tbody>\n",
       "    <tr>\n",
       "      <th>0</th>\n",
       "      <td>10248/11</td>\n",
       "      <td>12</td>\n",
       "      <td>1</td>\n",
       "      <td>0</td>\n",
       "      <td>0</td>\n",
       "      <td>0</td>\n",
       "      <td>0</td>\n",
       "      <td>0</td>\n",
       "    </tr>\n",
       "    <tr>\n",
       "      <th>1</th>\n",
       "      <td>10248/42</td>\n",
       "      <td>10</td>\n",
       "      <td>1</td>\n",
       "      <td>0</td>\n",
       "      <td>0</td>\n",
       "      <td>0</td>\n",
       "      <td>0</td>\n",
       "      <td>0</td>\n",
       "    </tr>\n",
       "    <tr>\n",
       "      <th>2</th>\n",
       "      <td>10248/72</td>\n",
       "      <td>5</td>\n",
       "      <td>1</td>\n",
       "      <td>0</td>\n",
       "      <td>0</td>\n",
       "      <td>0</td>\n",
       "      <td>0</td>\n",
       "      <td>0</td>\n",
       "    </tr>\n",
       "    <tr>\n",
       "      <th>3</th>\n",
       "      <td>10249/14</td>\n",
       "      <td>9</td>\n",
       "      <td>1</td>\n",
       "      <td>0</td>\n",
       "      <td>0</td>\n",
       "      <td>0</td>\n",
       "      <td>0</td>\n",
       "      <td>0</td>\n",
       "    </tr>\n",
       "    <tr>\n",
       "      <th>4</th>\n",
       "      <td>10249/51</td>\n",
       "      <td>40</td>\n",
       "      <td>1</td>\n",
       "      <td>0</td>\n",
       "      <td>0</td>\n",
       "      <td>0</td>\n",
       "      <td>0</td>\n",
       "      <td>0</td>\n",
       "    </tr>\n",
       "  </tbody>\n",
       "</table>\n",
       "</div>"
      ],
      "text/plain": [
       "         Id  Quantity  disc_0.0  disc_0.05  disc_0.1  disc_0.15  disc_0.2  \\\n",
       "0  10248/11        12         1          0         0          0         0   \n",
       "1  10248/42        10         1          0         0          0         0   \n",
       "2  10248/72         5         1          0         0          0         0   \n",
       "3  10249/14         9         1          0         0          0         0   \n",
       "4  10249/51        40         1          0         0          0         0   \n",
       "\n",
       "   disc_0.25  \n",
       "0          0  \n",
       "1          0  \n",
       "2          0  \n",
       "3          0  \n",
       "4          0  "
      ]
     },
     "execution_count": 11,
     "metadata": {},
     "output_type": "execute_result"
    }
   ],
   "source": [
    "#change Discount to categorical variables\n",
    "ordDetdf[\"Discount\"]=ordDetdf.Discount.astype(\"category\")\n",
    "#create dummy columns\n",
    "dummies = pd.get_dummies(ordDetdf[\"Discount\"],prefix=\"disc\")\n",
    "#new DataFrame has Id, target (Quantity) and variable (Discount)\n",
    "newdf = ordDetdf.drop(axis='columns',columns=[\"OrderId\",\"ProductId\",\"UnitPrice\",\"Discount\"])\n",
    "#add dummy columns to a newer dataframe\n",
    "disc_df = pd.concat([newdf, dummies], axis=1)\n",
    "disc_df.head()"
   ]
  },
  {
   "cell_type": "markdown",
   "metadata": {},
   "source": [
    "I will now create and save a new CSV file that consists of only the Quantity, Id and dummy Discount columns."
   ]
  },
  {
   "cell_type": "code",
   "execution_count": 19,
   "metadata": {},
   "outputs": [],
   "source": [
    "#saving to a CSV file\n",
    "disc_df.to_csv(path_or_buf=\"DiscountDummies.csv\")"
   ]
  },
  {
   "cell_type": "code",
   "execution_count": 21,
   "metadata": {},
   "outputs": [
    {
     "data": {
      "text/html": [
       "<div>\n",
       "<style scoped>\n",
       "    .dataframe tbody tr th:only-of-type {\n",
       "        vertical-align: middle;\n",
       "    }\n",
       "\n",
       "    .dataframe tbody tr th {\n",
       "        vertical-align: top;\n",
       "    }\n",
       "\n",
       "    .dataframe thead th {\n",
       "        text-align: right;\n",
       "    }\n",
       "</style>\n",
       "<table border=\"1\" class=\"dataframe\">\n",
       "  <thead>\n",
       "    <tr style=\"text-align: right;\">\n",
       "      <th></th>\n",
       "      <th>Id</th>\n",
       "      <th>Quantity</th>\n",
       "      <th>disc_0.0</th>\n",
       "      <th>disc_0.05</th>\n",
       "      <th>disc_0.1</th>\n",
       "      <th>disc_0.15</th>\n",
       "      <th>disc_0.2</th>\n",
       "      <th>disc_0.25</th>\n",
       "    </tr>\n",
       "  </thead>\n",
       "  <tbody>\n",
       "    <tr>\n",
       "      <th>0</th>\n",
       "      <td>10248/11</td>\n",
       "      <td>12</td>\n",
       "      <td>1</td>\n",
       "      <td>0</td>\n",
       "      <td>0</td>\n",
       "      <td>0</td>\n",
       "      <td>0</td>\n",
       "      <td>0</td>\n",
       "    </tr>\n",
       "    <tr>\n",
       "      <th>1</th>\n",
       "      <td>10248/42</td>\n",
       "      <td>10</td>\n",
       "      <td>1</td>\n",
       "      <td>0</td>\n",
       "      <td>0</td>\n",
       "      <td>0</td>\n",
       "      <td>0</td>\n",
       "      <td>0</td>\n",
       "    </tr>\n",
       "    <tr>\n",
       "      <th>2</th>\n",
       "      <td>10248/72</td>\n",
       "      <td>5</td>\n",
       "      <td>1</td>\n",
       "      <td>0</td>\n",
       "      <td>0</td>\n",
       "      <td>0</td>\n",
       "      <td>0</td>\n",
       "      <td>0</td>\n",
       "    </tr>\n",
       "    <tr>\n",
       "      <th>3</th>\n",
       "      <td>10249/14</td>\n",
       "      <td>9</td>\n",
       "      <td>1</td>\n",
       "      <td>0</td>\n",
       "      <td>0</td>\n",
       "      <td>0</td>\n",
       "      <td>0</td>\n",
       "      <td>0</td>\n",
       "    </tr>\n",
       "    <tr>\n",
       "      <th>4</th>\n",
       "      <td>10249/51</td>\n",
       "      <td>40</td>\n",
       "      <td>1</td>\n",
       "      <td>0</td>\n",
       "      <td>0</td>\n",
       "      <td>0</td>\n",
       "      <td>0</td>\n",
       "      <td>0</td>\n",
       "    </tr>\n",
       "  </tbody>\n",
       "</table>\n",
       "</div>"
      ],
      "text/plain": [
       "         Id  Quantity  disc_0.0  disc_0.05  disc_0.1  disc_0.15  disc_0.2  \\\n",
       "0  10248/11        12         1          0         0          0         0   \n",
       "1  10248/42        10         1          0         0          0         0   \n",
       "2  10248/72         5         1          0         0          0         0   \n",
       "3  10249/14         9         1          0         0          0         0   \n",
       "4  10249/51        40         1          0         0          0         0   \n",
       "\n",
       "   disc_0.25  \n",
       "0          0  \n",
       "1          0  \n",
       "2          0  \n",
       "3          0  \n",
       "4          0  "
      ]
     },
     "execution_count": 21,
     "metadata": {},
     "output_type": "execute_result"
    }
   ],
   "source": [
    "import pandas as pd\n",
    "disc_df = pd.read_csv(\"DiscountDummies.csv\")\n",
    "disc_df.drop(columns=[\"Unnamed: 0\"], inplace=True)\n",
    "disc_df.head()"
   ]
  },
  {
   "cell_type": "code",
   "execution_count": 24,
   "metadata": {},
   "outputs": [
    {
     "data": {
      "image/png": "[encoded data removed]",
      "text/plain": [
       "<Figure size 576x396 with 1 Axes>"
      ]
     },
     "metadata": {},
     "output_type": "display_data"
    }
   ],
   "source": [
    "#plotting a histogram of Quantity values\n",
    "import pandas as pd\n",
    "import matplotlib.pyplot as plt\n",
    "%matplotlib inline\n",
    "plt.style.use(\"seaborn\")\n",
    "\n",
    "plt.hist(disc_df.Quantity)\n",
    "plt.title(\"Product Quantity Histogram\")\n",
    "plt.ylabel(\"Frequency of Quantity\")\n",
    "plt.xlabel(\"Quantity Values in Each Order\")\n",
    "plt.savefig(\"products.png\")\n",
    "plt.show()"
   ]
  },
  {
   "cell_type": "markdown",
   "metadata": {},
   "source": [
    "The histogram shows most of Quantity is 30 or less, resulting in a somewhat left-skewed distribution.  In order to do an effect size calculation with Cohen's *d*, the data needs to be in a normal distribution."
   ]
  },
  {
   "cell_type": "code",
   "execution_count": 13,
   "metadata": {},
   "outputs": [
    {
     "name": "stderr",
     "output_type": "stream",
     "text": [
      "C:\\Users\\Bronwen\\Anaconda3\\envs\\learn-env\\lib\\site-packages\\scipy\\stats\\stats.py:1713: FutureWarning: Using a non-tuple sequence for multidimensional indexing is deprecated; use `arr[tuple(seq)]` instead of `arr[seq]`. In the future this will be interpreted as an array index, `arr[np.array(seq)]`, which will result either in an error or a different result.\n",
      "  return np.add.reduce(sorted[indexer] * weights, axis=axis) / sumval\n"
     ]
    },
    {
     "data": {
      "text/plain": [
       "<matplotlib.axes._subplots.AxesSubplot at 0x472c6e8160>"
      ]
     },
     "execution_count": 13,
     "metadata": {},
     "output_type": "execute_result"
    },
    {
     "data": {
      "image/png": "[encoded data removed]",
      "text/plain": [
       "<Figure size 432x288 with 1 Axes>"
      ]
     },
     "metadata": {
      "needs_background": "light"
     },
     "output_type": "display_data"
    }
   ],
   "source": [
    "import seaborn as sns\n",
    "sns.distplot(disc_df.Quantity)"
   ]
  },
  {
   "cell_type": "markdown",
   "metadata": {},
   "source": [
    "The Seaborn Distplot similarly shows a skew to the left, with the most frequent bucket or bin being about 20."
   ]
  },
  {
   "cell_type": "code",
   "execution_count": 4,
   "metadata": {
    "scrolled": true
   },
   "outputs": [
    {
     "data": {
      "text/html": [
       "<div>\n",
       "<style scoped>\n",
       "    .dataframe tbody tr th:only-of-type {\n",
       "        vertical-align: middle;\n",
       "    }\n",
       "\n",
       "    .dataframe tbody tr th {\n",
       "        vertical-align: top;\n",
       "    }\n",
       "\n",
       "    .dataframe thead th {\n",
       "        text-align: right;\n",
       "    }\n",
       "</style>\n",
       "<table border=\"1\" class=\"dataframe\">\n",
       "  <thead>\n",
       "    <tr style=\"text-align: right;\">\n",
       "      <th></th>\n",
       "      <th>Id</th>\n",
       "      <th>Quantity</th>\n",
       "      <th>Discount</th>\n",
       "      <th>disc_0.0</th>\n",
       "      <th>disc_0.05</th>\n",
       "      <th>disc_0.1</th>\n",
       "      <th>disc_0.15</th>\n",
       "      <th>disc_0.2</th>\n",
       "      <th>disc_0.25</th>\n",
       "    </tr>\n",
       "  </thead>\n",
       "  <tbody>\n",
       "    <tr>\n",
       "      <th>0</th>\n",
       "      <td>10248/11</td>\n",
       "      <td>12</td>\n",
       "      <td>0.0</td>\n",
       "      <td>1</td>\n",
       "      <td>0</td>\n",
       "      <td>0</td>\n",
       "      <td>0</td>\n",
       "      <td>0</td>\n",
       "      <td>0</td>\n",
       "    </tr>\n",
       "    <tr>\n",
       "      <th>1</th>\n",
       "      <td>10248/42</td>\n",
       "      <td>10</td>\n",
       "      <td>0.0</td>\n",
       "      <td>1</td>\n",
       "      <td>0</td>\n",
       "      <td>0</td>\n",
       "      <td>0</td>\n",
       "      <td>0</td>\n",
       "      <td>0</td>\n",
       "    </tr>\n",
       "    <tr>\n",
       "      <th>2</th>\n",
       "      <td>10248/72</td>\n",
       "      <td>5</td>\n",
       "      <td>0.0</td>\n",
       "      <td>1</td>\n",
       "      <td>0</td>\n",
       "      <td>0</td>\n",
       "      <td>0</td>\n",
       "      <td>0</td>\n",
       "      <td>0</td>\n",
       "    </tr>\n",
       "    <tr>\n",
       "      <th>3</th>\n",
       "      <td>10249/14</td>\n",
       "      <td>9</td>\n",
       "      <td>0.0</td>\n",
       "      <td>1</td>\n",
       "      <td>0</td>\n",
       "      <td>0</td>\n",
       "      <td>0</td>\n",
       "      <td>0</td>\n",
       "      <td>0</td>\n",
       "    </tr>\n",
       "    <tr>\n",
       "      <th>4</th>\n",
       "      <td>10249/51</td>\n",
       "      <td>40</td>\n",
       "      <td>0.0</td>\n",
       "      <td>1</td>\n",
       "      <td>0</td>\n",
       "      <td>0</td>\n",
       "      <td>0</td>\n",
       "      <td>0</td>\n",
       "      <td>0</td>\n",
       "    </tr>\n",
       "  </tbody>\n",
       "</table>\n",
       "</div>"
      ],
      "text/plain": [
       "         Id  Quantity  Discount  disc_0.0  disc_0.05  disc_0.1  disc_0.15  \\\n",
       "0  10248/11        12       0.0         1          0         0          0   \n",
       "1  10248/42        10       0.0         1          0         0          0   \n",
       "2  10248/72         5       0.0         1          0         0          0   \n",
       "3  10249/14         9       0.0         1          0         0          0   \n",
       "4  10249/51        40       0.0         1          0         0          0   \n",
       "\n",
       "   disc_0.2  disc_0.25  \n",
       "0         0          0  \n",
       "1         0          0  \n",
       "2         0          0  \n",
       "3         0          0  \n",
       "4         0          0  "
      ]
     },
     "execution_count": 4,
     "metadata": {},
     "output_type": "execute_result"
    }
   ],
   "source": [
    "import pandas as pd\n",
    "disc_df = pd.read_csv(\"DiscountDummies.csv\")\n",
    "disc_df.drop(columns=[\"Unnamed: 0\"], inplace=True)\n",
    "disc_df.head()"
   ]
  },
  {
   "cell_type": "markdown",
   "metadata": {},
   "source": [
    "#### Degree of Effect\n",
    "To figure out how much of an effect, I can use SciPy to measure the effect size between the sales that had zero discount and nonzero discounts."
   ]
  },
  {
   "cell_type": "code",
   "execution_count": 14,
   "metadata": {},
   "outputs": [],
   "source": [
    "#from __future__ import print_function, division\n",
    "import numpy as np\n",
    "import scipy.stats\n",
    "import matplotlib.pyplot as plt\n",
    "%matplotlib inline\n",
    "\n",
    "#seeding random number so can get the same results every time\n",
    "np.random.seed(25)"
   ]
  },
  {
   "cell_type": "code",
   "execution_count": 1,
   "metadata": {
    "scrolled": true
   },
   "outputs": [
    {
     "data": {
      "text/html": [
       "<div>\n",
       "<style scoped>\n",
       "    .dataframe tbody tr th:only-of-type {\n",
       "        vertical-align: middle;\n",
       "    }\n",
       "\n",
       "    .dataframe tbody tr th {\n",
       "        vertical-align: top;\n",
       "    }\n",
       "\n",
       "    .dataframe thead th {\n",
       "        text-align: right;\n",
       "    }\n",
       "</style>\n",
       "<table border=\"1\" class=\"dataframe\">\n",
       "  <thead>\n",
       "    <tr style=\"text-align: right;\">\n",
       "      <th></th>\n",
       "      <th>Id</th>\n",
       "      <th>Quantity</th>\n",
       "      <th>Discount</th>\n",
       "      <th>disc_0.0</th>\n",
       "      <th>disc_0.05</th>\n",
       "      <th>disc_0.1</th>\n",
       "      <th>disc_0.15</th>\n",
       "      <th>disc_0.2</th>\n",
       "      <th>disc_0.25</th>\n",
       "    </tr>\n",
       "  </thead>\n",
       "  <tbody>\n",
       "    <tr>\n",
       "      <th>0</th>\n",
       "      <td>10248/11</td>\n",
       "      <td>12</td>\n",
       "      <td>0.0</td>\n",
       "      <td>1</td>\n",
       "      <td>0</td>\n",
       "      <td>0</td>\n",
       "      <td>0</td>\n",
       "      <td>0</td>\n",
       "      <td>0</td>\n",
       "    </tr>\n",
       "    <tr>\n",
       "      <th>1</th>\n",
       "      <td>10248/42</td>\n",
       "      <td>10</td>\n",
       "      <td>0.0</td>\n",
       "      <td>1</td>\n",
       "      <td>0</td>\n",
       "      <td>0</td>\n",
       "      <td>0</td>\n",
       "      <td>0</td>\n",
       "      <td>0</td>\n",
       "    </tr>\n",
       "    <tr>\n",
       "      <th>2</th>\n",
       "      <td>10248/72</td>\n",
       "      <td>5</td>\n",
       "      <td>0.0</td>\n",
       "      <td>1</td>\n",
       "      <td>0</td>\n",
       "      <td>0</td>\n",
       "      <td>0</td>\n",
       "      <td>0</td>\n",
       "      <td>0</td>\n",
       "    </tr>\n",
       "    <tr>\n",
       "      <th>3</th>\n",
       "      <td>10249/14</td>\n",
       "      <td>9</td>\n",
       "      <td>0.0</td>\n",
       "      <td>1</td>\n",
       "      <td>0</td>\n",
       "      <td>0</td>\n",
       "      <td>0</td>\n",
       "      <td>0</td>\n",
       "      <td>0</td>\n",
       "    </tr>\n",
       "    <tr>\n",
       "      <th>4</th>\n",
       "      <td>10249/51</td>\n",
       "      <td>40</td>\n",
       "      <td>0.0</td>\n",
       "      <td>1</td>\n",
       "      <td>0</td>\n",
       "      <td>0</td>\n",
       "      <td>0</td>\n",
       "      <td>0</td>\n",
       "      <td>0</td>\n",
       "    </tr>\n",
       "  </tbody>\n",
       "</table>\n",
       "</div>"
      ],
      "text/plain": [
       "         Id  Quantity  Discount  disc_0.0  disc_0.05  disc_0.1  disc_0.15  \\\n",
       "0  10248/11        12       0.0         1          0         0          0   \n",
       "1  10248/42        10       0.0         1          0         0          0   \n",
       "2  10248/72         5       0.0         1          0         0          0   \n",
       "3  10249/14         9       0.0         1          0         0          0   \n",
       "4  10249/51        40       0.0         1          0         0          0   \n",
       "\n",
       "   disc_0.2  disc_0.25  \n",
       "0         0          0  \n",
       "1         0          0  \n",
       "2         0          0  \n",
       "3         0          0  \n",
       "4         0          0  "
      ]
     },
     "execution_count": 1,
     "metadata": {},
     "output_type": "execute_result"
    }
   ],
   "source": [
    "import pandas as pd\n",
    "disc_df = pd.read_csv(\"DiscountDummies.csv\")\n",
    "disc_df.drop(columns=[\"Unnamed: 0\"], inplace=True)\n",
    "disc_df.head()"
   ]
  },
  {
   "cell_type": "code",
   "execution_count": 15,
   "metadata": {},
   "outputs": [
    {
     "data": {
      "text/html": [
       "<div>\n",
       "<style scoped>\n",
       "    .dataframe tbody tr th:only-of-type {\n",
       "        vertical-align: middle;\n",
       "    }\n",
       "\n",
       "    .dataframe tbody tr th {\n",
       "        vertical-align: top;\n",
       "    }\n",
       "\n",
       "    .dataframe thead th {\n",
       "        text-align: right;\n",
       "    }\n",
       "</style>\n",
       "<table border=\"1\" class=\"dataframe\">\n",
       "  <thead>\n",
       "    <tr style=\"text-align: right;\">\n",
       "      <th></th>\n",
       "      <th>Quantity</th>\n",
       "      <th>NoDiscount</th>\n",
       "    </tr>\n",
       "  </thead>\n",
       "  <tbody>\n",
       "    <tr>\n",
       "      <th>0</th>\n",
       "      <td>12</td>\n",
       "      <td>1</td>\n",
       "    </tr>\n",
       "    <tr>\n",
       "      <th>1</th>\n",
       "      <td>10</td>\n",
       "      <td>1</td>\n",
       "    </tr>\n",
       "    <tr>\n",
       "      <th>2</th>\n",
       "      <td>5</td>\n",
       "      <td>1</td>\n",
       "    </tr>\n",
       "    <tr>\n",
       "      <th>3</th>\n",
       "      <td>9</td>\n",
       "      <td>1</td>\n",
       "    </tr>\n",
       "    <tr>\n",
       "      <th>4</th>\n",
       "      <td>40</td>\n",
       "      <td>1</td>\n",
       "    </tr>\n",
       "  </tbody>\n",
       "</table>\n",
       "</div>"
      ],
      "text/plain": [
       "   Quantity  NoDiscount\n",
       "0        12           1\n",
       "1        10           1\n",
       "2         5           1\n",
       "3         9           1\n",
       "4        40           1"
      ]
     },
     "execution_count": 15,
     "metadata": {},
     "output_type": "execute_result"
    }
   ],
   "source": [
    "#creating new dataframe with Quantity and a boolean Discount value\n",
    "newdf = pd.concat([disc_df.Quantity,disc_df[\"disc_0.0\"]],axis=1)\n",
    "newdf.rename(columns={\"disc_0.0\":\"NoDiscount\"}, inplace=True) #disc_0.0 dummy renamed to NoDiscount: 1 meaning zero discount\n",
    "newdf.head()"
   ]
  },
  {
   "cell_type": "code",
   "execution_count": 16,
   "metadata": {},
   "outputs": [],
   "source": [
    "#create discounted and non-discounted lists of data from the dataframe\n",
    "discounted=[x for x, y in zip(newdf[\"Quantity\"], newdf[\"NoDiscount\"]) if y==0]\n",
    "nodiscount=[x for x, y in zip(newdf[\"Quantity\"], newdf[\"NoDiscount\"]) if y==1]"
   ]
  },
  {
   "cell_type": "code",
   "execution_count": 17,
   "metadata": {},
   "outputs": [
    {
     "data": {
      "text/plain": [
       "1    1317\n",
       "0     830\n",
       "Name: NoDiscount, dtype: int64"
      ]
     },
     "execution_count": 17,
     "metadata": {},
     "output_type": "execute_result"
    }
   ],
   "source": [
    "#A 1 means there is no discount, while a 0 means there is a discount.\n",
    "newdf.NoDiscount.value_counts()"
   ]
  },
  {
   "cell_type": "code",
   "execution_count": 18,
   "metadata": {},
   "outputs": [
    {
     "name": "stdout",
     "output_type": "stream",
     "text": [
      "There are 830 products with a discount and 1317 without.\n"
     ]
    },
    {
     "data": {
      "text/plain": [
       "True"
      ]
     },
     "execution_count": 18,
     "metadata": {},
     "output_type": "execute_result"
    }
   ],
   "source": [
    "print(f\"There are {len(discounted)} products with a discount and {len(nodiscount)} without.\")\n",
    "\n",
    "#There are the same number of records, just now split into two lists of Quantity:\n",
    "len(discounted)+len(nodiscount)==len(newdf)"
   ]
  },
  {
   "cell_type": "code",
   "execution_count": 19,
   "metadata": {},
   "outputs": [
    {
     "data": {
      "image/png": "[encoded data removed]",
      "text/plain": [
       "<Figure size 576x396 with 1 Axes>"
      ]
     },
     "metadata": {},
     "output_type": "display_data"
    },
    {
     "data": {
      "image/png": "[encoded data removed]",
      "text/plain": [
       "<Figure size 576x396 with 1 Axes>"
      ]
     },
     "metadata": {},
     "output_type": "display_data"
    }
   ],
   "source": [
    "#plotting both lists to see normality with QQ plots\n",
    "import numpy as np\n",
    "import statsmodels.api as sm\n",
    "import matplotlib.pyplot as plt\n",
    "%matplotlib inline\n",
    "plt.style.use(\"seaborn\")\n",
    "\n",
    "for each in [np.array(discounted), np.array(nodiscount)]:\n",
    "    sm.qqplot(each, line='s')"
   ]
  },
  {
   "cell_type": "markdown",
   "metadata": {},
   "source": [
    "It looks as though both follow a similar pattern, but are most different from the normal distribution at the extremes.\n",
    "\n",
    "Next, I'll use the Kolmogorov-Smirnov Test to see how different from normal the discounted and non-discounted data are."
   ]
  },
  {
   "cell_type": "code",
   "execution_count": 20,
   "metadata": {},
   "outputs": [
    {
     "name": "stdout",
     "output_type": "stream",
     "text": [
      "KstestResult(statistic=0.9760450487747123, pvalue=0.0)\n",
      "KstestResult(statistic=0.9673789492970751, pvalue=0.0)\n"
     ]
    }
   ],
   "source": [
    "from scipy import stats\n",
    "\n",
    "for each in [discounted, nodiscount]:\n",
    "    print(stats.kstest(each,'norm'))"
   ]
  },
  {
   "cell_type": "markdown",
   "metadata": {},
   "source": [
    "Since the `kstest` results both have a p-value of 0, the null hypothesis (that `discounted`/`nodiscount` is a normal distribution) is rejected and so with the p-value below 0.05, I can say the two datasets are not normally distributed."
   ]
  },
  {
   "cell_type": "markdown",
   "metadata": {},
   "source": [
    "I can use the `rvs` method to generate a random sample from the population distributions, and then calculate the difference between the distribution means.  Using the Central Limit Theorem to look at the sample distribution of sample means gives an approximate normal distribution to compare averages and p-values."
   ]
  },
  {
   "cell_type": "markdown",
   "metadata": {},
   "source": [
    "*Credit to arseniyturin on GitHub for inspiring me to use Cohen's $d$ statistic and a bootstrap method to look at effect size.*"
   ]
  },
  {
   "cell_type": "code",
   "execution_count": 21,
   "metadata": {},
   "outputs": [],
   "source": [
    "import numpy as np\n",
    "np.random.seed(25)#so this notebook's conclusions can be replicable\n",
    "\n",
    "#get a normally distributed sample by resampling\n",
    "def resample(values):#a list of values to be resampled from\n",
    "    dist=[] \n",
    "    for j in range(50):#loop to get 50 means for the sample-created distribution\n",
    "        selection=[]#selection to store the random sample of 20 items from values\n",
    "        for i in range(20):#loop to get 20 values for a sample\n",
    "            val = np.random.choice(values)#take a sample\n",
    "            selection.append(val)\n",
    "        dist.append(np.mean(selection))#find the sample's mean and add it to new distribution\n",
    "    return dist#returning the distribution of sample means"
   ]
  },
  {
   "cell_type": "code",
   "execution_count": 27,
   "metadata": {},
   "outputs": [],
   "source": [
    "#create normally distributed lists of sample means\n",
    "sample_disc = resample(discounted)\n",
    "sample_nodisc = resample(nodiscount)"
   ]
  },
  {
   "cell_type": "code",
   "execution_count": 28,
   "metadata": {},
   "outputs": [],
   "source": [
    "#make the normalized resampled means into a normal continuous random variable\n",
    "norm_discounted = scipy.stats.norm(np.mean(sample_disc), np.std(sample_disc))\n",
    "norm_nodiscount = scipy.stats.norm(np.mean(sample_nodisc), np.std(sample_nodisc))"
   ]
  },
  {
   "cell_type": "code",
   "execution_count": 29,
   "metadata": {},
   "outputs": [],
   "source": [
    "#take a random sample from the normal continuous random variable of sample means:\n",
    "disc_avg_sample = norm_discounted.rvs(1000)\n",
    "nodisc_avg_sample = norm_nodiscount.rvs(1000)"
   ]
  },
  {
   "cell_type": "markdown",
   "metadata": {},
   "source": [
    "I'll look at Cohen's $d$ statistic to show the magnitude of difference between the discounted and non-discounted items."
   ]
  },
  {
   "cell_type": "code",
   "execution_count": 30,
   "metadata": {},
   "outputs": [],
   "source": [
    "def Cohen_d(group1, group2):\n",
    "    diff = group1.mean() - group2.mean()#difference between means\n",
    "    var1 = group1.var()#variances\n",
    "    var2 = group2.var()\n",
    "    n1, n2 = len(group1), len(group2)\n",
    "    \n",
    "    #calculate the pooled threshold for the denominator\n",
    "    pooled_var = (n1*var1 + n2*var2)/(n1 + n2)\n",
    "    \n",
    "    #calculate Cohen's d statistic\n",
    "    d = diff / np.sqrt(pooled_var)\n",
    "    \n",
    "    return d"
   ]
  },
  {
   "cell_type": "code",
   "execution_count": 31,
   "metadata": {},
   "outputs": [
    {
     "data": {
      "text/plain": [
       "1.1036038228729146"
      ]
     },
     "execution_count": 31,
     "metadata": {},
     "output_type": "execute_result"
    }
   ],
   "source": [
    "Cohen_d(disc_avg_sample, nodisc_avg_sample)"
   ]
  },
  {
   "cell_type": "markdown",
   "metadata": {},
   "source": [
    "Cohen's $d$ statistic shows there is a large effect between the discounted and non-discounted items."
   ]
  },
  {
   "cell_type": "markdown",
   "metadata": {},
   "source": [
    "### Differences Between Discount Amounts\n",
    "The next part of the question asked about whether there was an effect size between the different levels of discount."
   ]
  },
  {
   "cell_type": "code",
   "execution_count": 32,
   "metadata": {},
   "outputs": [
    {
     "data": {
      "text/html": [
       "<div>\n",
       "<style scoped>\n",
       "    .dataframe tbody tr th:only-of-type {\n",
       "        vertical-align: middle;\n",
       "    }\n",
       "\n",
       "    .dataframe tbody tr th {\n",
       "        vertical-align: top;\n",
       "    }\n",
       "\n",
       "    .dataframe thead th {\n",
       "        text-align: right;\n",
       "    }\n",
       "</style>\n",
       "<table border=\"1\" class=\"dataframe\">\n",
       "  <thead>\n",
       "    <tr style=\"text-align: right;\">\n",
       "      <th></th>\n",
       "      <th>Id</th>\n",
       "      <th>Quantity</th>\n",
       "      <th>disc_0.0</th>\n",
       "      <th>disc_0.05</th>\n",
       "      <th>disc_0.1</th>\n",
       "      <th>disc_0.15</th>\n",
       "      <th>disc_0.2</th>\n",
       "      <th>disc_0.25</th>\n",
       "    </tr>\n",
       "  </thead>\n",
       "  <tbody>\n",
       "    <tr>\n",
       "      <th>0</th>\n",
       "      <td>10248/11</td>\n",
       "      <td>12</td>\n",
       "      <td>1</td>\n",
       "      <td>0</td>\n",
       "      <td>0</td>\n",
       "      <td>0</td>\n",
       "      <td>0</td>\n",
       "      <td>0</td>\n",
       "    </tr>\n",
       "    <tr>\n",
       "      <th>1</th>\n",
       "      <td>10248/42</td>\n",
       "      <td>10</td>\n",
       "      <td>1</td>\n",
       "      <td>0</td>\n",
       "      <td>0</td>\n",
       "      <td>0</td>\n",
       "      <td>0</td>\n",
       "      <td>0</td>\n",
       "    </tr>\n",
       "    <tr>\n",
       "      <th>2</th>\n",
       "      <td>10248/72</td>\n",
       "      <td>5</td>\n",
       "      <td>1</td>\n",
       "      <td>0</td>\n",
       "      <td>0</td>\n",
       "      <td>0</td>\n",
       "      <td>0</td>\n",
       "      <td>0</td>\n",
       "    </tr>\n",
       "    <tr>\n",
       "      <th>3</th>\n",
       "      <td>10249/14</td>\n",
       "      <td>9</td>\n",
       "      <td>1</td>\n",
       "      <td>0</td>\n",
       "      <td>0</td>\n",
       "      <td>0</td>\n",
       "      <td>0</td>\n",
       "      <td>0</td>\n",
       "    </tr>\n",
       "    <tr>\n",
       "      <th>4</th>\n",
       "      <td>10249/51</td>\n",
       "      <td>40</td>\n",
       "      <td>1</td>\n",
       "      <td>0</td>\n",
       "      <td>0</td>\n",
       "      <td>0</td>\n",
       "      <td>0</td>\n",
       "      <td>0</td>\n",
       "    </tr>\n",
       "  </tbody>\n",
       "</table>\n",
       "</div>"
      ],
      "text/plain": [
       "         Id  Quantity  disc_0.0  disc_0.05  disc_0.1  disc_0.15  disc_0.2  \\\n",
       "0  10248/11        12         1          0         0          0         0   \n",
       "1  10248/42        10         1          0         0          0         0   \n",
       "2  10248/72         5         1          0         0          0         0   \n",
       "3  10249/14         9         1          0         0          0         0   \n",
       "4  10249/51        40         1          0         0          0         0   \n",
       "\n",
       "   disc_0.25  \n",
       "0          0  \n",
       "1          0  \n",
       "2          0  \n",
       "3          0  \n",
       "4          0  "
      ]
     },
     "execution_count": 32,
     "metadata": {},
     "output_type": "execute_result"
    }
   ],
   "source": [
    "#separate DataFrame into lists of discount levels for .05, .1, .15, .2, .25\n",
    "disc_df.head()"
   ]
  },
  {
   "cell_type": "code",
   "execution_count": 33,
   "metadata": {},
   "outputs": [],
   "source": [
    "discount05=[x for x, y in zip(disc_df[\"Quantity\"], disc_df[\"disc_0.05\"]) if y==1]\n",
    "discount10=[x for x, y in zip(disc_df[\"Quantity\"], disc_df[\"disc_0.1\"]) if y==1]\n",
    "discount15=[x for x, y in zip(disc_df[\"Quantity\"], disc_df[\"disc_0.15\"]) if y==1]\n",
    "discount20=[x for x, y in zip(disc_df[\"Quantity\"], disc_df[\"disc_0.2\"]) if y==1]\n",
    "discount25=[x for x, y in zip(disc_df[\"Quantity\"], disc_df[\"disc_0.25\"]) if y==1]"
   ]
  },
  {
   "cell_type": "code",
   "execution_count": 36,
   "metadata": {},
   "outputs": [],
   "source": [
    "#creating pairs of discount values to compare each to each other\n",
    "disc_lists = [discount05, discount10, discount15, discount20, discount25]"
   ]
  },
  {
   "cell_type": "code",
   "execution_count": 75,
   "metadata": {},
   "outputs": [],
   "source": [
    "#creating a complimentary percentage list to use as names\n",
    "name_list = [\"5\",\"10\",\"15\",\"20\",\"25\"]"
   ]
  },
  {
   "cell_type": "code",
   "execution_count": 91,
   "metadata": {},
   "outputs": [
    {
     "name": "stdout",
     "output_type": "stream",
     "text": [
      "('5', '10')\n",
      "('5', '15')\n",
      "('5', '20')\n",
      "('5', '25')\n",
      "('10', '15')\n",
      "('10', '20')\n",
      "('10', '25')\n",
      "('15', '20')\n",
      "('15', '25')\n",
      "('20', '25')\n"
     ]
    }
   ],
   "source": [
    "from itertools import combinations\n",
    "name_pairlist = []\n",
    "namepairs = combinations(name_list, r=2)\n",
    "for pair in namepairs:\n",
    "    print(pair)\n",
    "    name_pairlist.append(pair)"
   ]
  },
  {
   "cell_type": "code",
   "execution_count": 96,
   "metadata": {},
   "outputs": [
    {
     "name": "stdout",
     "output_type": "stream",
     "text": [
      "The small effect size between 5% and 10% discounts is 0.12812673570489413\n",
      "The small effect size between 5% and 15% discounts is 0.01722956211794838\n",
      "The small effect size between 5% and 20% discounts is 0.04778093149327345\n",
      "The small effect size between 5% and 25% discounts is 0.01081731590086831\n",
      "The small effect size between 10% and 15% discounts is 0.14978635299812654\n",
      "The small effect size between 10% and 20% discounts is 0.08927460012878101\n",
      "The small effect size between 10% and 25% discounts is 0.14559055098817159\n",
      "The small effect size between 15% and 20% discounts is 0.06844944375575103\n",
      "The small effect size between 15% and 25% discounts is 0.006934572866815086\n",
      "The small effect size between 20% and 25% discounts is 0.06261472101123484\n"
     ]
    }
   ],
   "source": [
    "from itertools import combinations\n",
    "disc_pairs = combinations(disc_lists, r=2)\n",
    "\n",
    "for idx, disc_pair in enumerate(disc_pairs):\n",
    "    \n",
    "    smallBreak = (0.2+0.5)/2\n",
    "    largeBreak = (0.5+0.8)/2\n",
    "    \n",
    "    fir_pair = np.array(disc_pair[0])\n",
    "    sec_pair = np.array(disc_pair[1])\n",
    "    d = abs(Cohen_d(fir_pair,sec_pair))\n",
    "    \n",
    "    if d<=smallBreak: # around 0.2 is a small effect size\n",
    "        adjective=\"small\"\n",
    "    elif d<=largeBreak: # around 0.5 is a medium effect size\n",
    "        adjective = \"medium\"\n",
    "    else: # around 0.8 is a large effect size\n",
    "        adjective = \"large\"\n",
    "    \n",
    "    names = name_pairlist[idx]\n",
    "    \n",
    "    print(f\"The {adjective} effect size between {names[0]}% and {names[1]}% discounts is {d}\")"
   ]
  },
  {
   "cell_type": "markdown",
   "metadata": {},
   "source": [
    "The largest effect size is between 10% and 15%, which is still below 0.2 and considered a small effect.  Meanwhile, the lowest *d* value is found when comparing 15% and 25%, which would be rounded to zero, even at two decimal places.\n",
    "\n",
    "These results indicate there is little-to-no difference within the values of the discount that impacts the quantity of products sold."
   ]
  },
  {
   "cell_type": "markdown",
   "metadata": {},
   "source": [
    "## Hypothesis 2: Cold weather (meteorological winter) commands higher shipping prices"
   ]
  },
  {
   "cell_type": "markdown",
   "metadata": {},
   "source": [
    "I will now consider the table containing shipping costs, shipping companies and the date of when an order was placed.  I would need to control for the weight, distance and shipping method also affecting shipping costs, but weight is not available and distance and shipping method are likely linked.  For instance, a longer distance may be sent by air and a shorter distance by truck.  Some of this information is beyond the scope of this project, so I will just compare the effect sizes of dates (categorized by season) to see whether there how much difference there is between them.\n",
    "Hypothesis 3 compares the shipping companies."
   ]
  },
  {
   "cell_type": "code",
   "execution_count": 39,
   "metadata": {},
   "outputs": [
    {
     "name": "stdout",
     "output_type": "stream",
     "text": [
      "['Category', 'Customer', 'CustomerCustomerDemo', 'CustomerDemographic', 'Employee', 'EmployeeTerritory', 'OrderDetail', 'Orders', 'Product', 'Region', 'Shipper', 'Supplier', 'Territory']\n"
     ]
    }
   ],
   "source": [
    "#SQLite block setting up for importing the data, looking at table names\n",
    "import sqlalchemy\n",
    "from sqlalchemy import create_engine\n",
    "from sqlalchemy import inspect\n",
    "\n",
    "myengine = create_engine(\"sqlite:///Northwind_small.sqlite\")\n",
    "inspector = inspect(myengine)\n",
    "\n",
    "print(inspector.get_table_names())#check the table names in Northwind"
   ]
  },
  {
   "cell_type": "markdown",
   "metadata": {},
   "source": [
    "So I will take the following variables from the \"Orders\" table: ShippedDate, ShipVia, Freight, ShipRegion and OrderID."
   ]
  },
  {
   "cell_type": "code",
   "execution_count": 7,
   "metadata": {},
   "outputs": [
    {
     "data": {
      "text/plain": [
       "['Id',\n",
       " 'CustomerId',\n",
       " 'EmployeeId',\n",
       " 'OrderDate',\n",
       " 'RequiredDate',\n",
       " 'ShippedDate',\n",
       " 'ShipVia',\n",
       " 'Freight',\n",
       " 'ShipName',\n",
       " 'ShipAddress',\n",
       " 'ShipCity',\n",
       " 'ShipRegion',\n",
       " 'ShipPostalCode',\n",
       " 'ShipCountry']"
      ]
     },
     "execution_count": 7,
     "metadata": {},
     "output_type": "execute_result"
    }
   ],
   "source": [
    "#make list of column names\n",
    "cols = inspector.get_columns(\"Order\")\n",
    "ordCols = []\n",
    "for col in cols:\n",
    "    ordCols.append(col['name'])\n",
    "ordCols"
   ]
  },
  {
   "cell_type": "code",
   "execution_count": 8,
   "metadata": {},
   "outputs": [
    {
     "data": {
      "text/plain": [
       "['Id', 'ShippedDate', 'ShipVia', 'Freight', 'ShipRegion', 'ShipCountry']"
      ]
     },
     "execution_count": 8,
     "metadata": {},
     "output_type": "execute_result"
    }
   ],
   "source": [
    "#creating list of selected, relevant column names\n",
    "myOrdCols=[ordCols[0]]\n",
    "for i in ordCols[5:8]:\n",
    "    myOrdCols.append(i)\n",
    "myOrdCols.append(ordCols[-3])\n",
    "myOrdCols.append(ordCols[-1])\n",
    "myOrdCols"
   ]
  },
  {
   "cell_type": "code",
   "execution_count": 35,
   "metadata": {},
   "outputs": [],
   "source": [
    "#Order is a protected keyword part of ORDER BY in SQL, so I need to change the table name\n",
    "import sqlite3\n",
    "conn = sqlite3.connect('Northwind_small.sqlite')\n",
    "c = conn.cursor()\n",
    "c.execute('''ALTER TABLE 'Order' RENAME TO 'Orders';''')\n",
    "Orders = c.execute('''SELECT Id, ShippedDate, ShipVia, Freight, ShipRegion, ShipCountry FROM Orders''').fetchall()"
   ]
  },
  {
   "cell_type": "code",
   "execution_count": 10,
   "metadata": {},
   "outputs": [
    {
     "data": {
      "text/html": [
       "<div>\n",
       "<style scoped>\n",
       "    .dataframe tbody tr th:only-of-type {\n",
       "        vertical-align: middle;\n",
       "    }\n",
       "\n",
       "    .dataframe tbody tr th {\n",
       "        vertical-align: top;\n",
       "    }\n",
       "\n",
       "    .dataframe thead th {\n",
       "        text-align: right;\n",
       "    }\n",
       "</style>\n",
       "<table border=\"1\" class=\"dataframe\">\n",
       "  <thead>\n",
       "    <tr style=\"text-align: right;\">\n",
       "      <th></th>\n",
       "      <th>Id</th>\n",
       "      <th>ShippedDate</th>\n",
       "      <th>ShipVia</th>\n",
       "      <th>Freight</th>\n",
       "      <th>ShipRegion</th>\n",
       "      <th>ShipCountry</th>\n",
       "    </tr>\n",
       "  </thead>\n",
       "  <tbody>\n",
       "    <tr>\n",
       "      <th>0</th>\n",
       "      <td>10248</td>\n",
       "      <td>2012-07-16</td>\n",
       "      <td>3</td>\n",
       "      <td>32.38</td>\n",
       "      <td>Western Europe</td>\n",
       "      <td>France</td>\n",
       "    </tr>\n",
       "    <tr>\n",
       "      <th>1</th>\n",
       "      <td>10249</td>\n",
       "      <td>2012-07-10</td>\n",
       "      <td>1</td>\n",
       "      <td>11.61</td>\n",
       "      <td>Western Europe</td>\n",
       "      <td>Germany</td>\n",
       "    </tr>\n",
       "    <tr>\n",
       "      <th>2</th>\n",
       "      <td>10250</td>\n",
       "      <td>2012-07-12</td>\n",
       "      <td>2</td>\n",
       "      <td>65.83</td>\n",
       "      <td>South America</td>\n",
       "      <td>Brazil</td>\n",
       "    </tr>\n",
       "  </tbody>\n",
       "</table>\n",
       "</div>"
      ],
      "text/plain": [
       "      Id ShippedDate  ShipVia  Freight      ShipRegion ShipCountry\n",
       "0  10248  2012-07-16        3    32.38  Western Europe      France\n",
       "1  10249  2012-07-10        1    11.61  Western Europe     Germany\n",
       "2  10250  2012-07-12        2    65.83   South America      Brazil"
      ]
     },
     "execution_count": 10,
     "metadata": {},
     "output_type": "execute_result"
    }
   ],
   "source": [
    "#putting Order table's selected columns into pandas DataFrame\n",
    "import pandas as pd\n",
    "ordersdf = pd.DataFrame(Orders, columns=myOrdCols)\n",
    "\n",
    "#saving DataFrame as .CSV file to more easily access later\n",
    "ordersdf.to_csv(path_or_buf=\"Orders.csv\")\n",
    "ordersdf.head(3)"
   ]
  },
  {
   "cell_type": "code",
   "execution_count": 40,
   "metadata": {},
   "outputs": [],
   "source": [
    "#code to get CSV file back into DataFrame\n",
    "import pandas as pd\n",
    "ordersdf = pd.read_csv(\"Orders.csv\")"
   ]
  },
  {
   "cell_type": "code",
   "execution_count": 41,
   "metadata": {},
   "outputs": [
    {
     "name": "stdout",
     "output_type": "stream",
     "text": [
      "<class 'pandas.core.frame.DataFrame'>\n",
      "RangeIndex: 830 entries, 0 to 829\n",
      "Data columns (total 6 columns):\n",
      "Id             830 non-null int64\n",
      "ShippedDate    809 non-null object\n",
      "ShipVia        830 non-null int64\n",
      "Freight        830 non-null float64\n",
      "ShipRegion     830 non-null object\n",
      "ShipCountry    830 non-null object\n",
      "dtypes: float64(1), int64(2), object(3)\n",
      "memory usage: 39.0+ KB\n"
     ]
    }
   ],
   "source": [
    "#looking at aspects of the DataFrame\n",
    "ordersdf.drop(columns=[\"Unnamed: 0\"], inplace=True)\n",
    "ordersdf.info()"
   ]
  },
  {
   "cell_type": "code",
   "execution_count": 46,
   "metadata": {},
   "outputs": [
    {
     "name": "stdout",
     "output_type": "stream",
     "text": [
      "<class 'pandas.core.frame.DataFrame'>\n",
      "RangeIndex: 830 entries, 0 to 829\n",
      "Data columns (total 7 columns):\n",
      "Id             830 non-null int64\n",
      "ShippedDate    809 non-null datetime64[ns]\n",
      "ShipVia        830 non-null int64\n",
      "Freight        830 non-null float64\n",
      "ShipRegion     830 non-null object\n",
      "ShipCountry    830 non-null object\n",
      "Hemisphere     830 non-null int64\n",
      "dtypes: datetime64[ns](1), float64(1), int64(3), object(2)\n",
      "memory usage: 45.5+ KB\n"
     ]
    }
   ],
   "source": [
    "#convert dates to datetime objects\n",
    "ordersdf.ShippedDate = pd.to_datetime(ordersdf.ShippedDate)\n",
    "ordersdf.info()"
   ]
  },
  {
   "cell_type": "code",
   "execution_count": 42,
   "metadata": {},
   "outputs": [
    {
     "data": {
      "text/plain": [
       "Western Europe     276\n",
       "North America      152\n",
       "South America      145\n",
       "British Isles       75\n",
       "Southern Europe     64\n",
       "Northern Europe     55\n",
       "Central America     28\n",
       "Scandinavia         28\n",
       "Eastern Europe       7\n",
       "Name: ShipRegion, dtype: int64"
      ]
     },
     "execution_count": 42,
     "metadata": {},
     "output_type": "execute_result"
    }
   ],
   "source": [
    "#look at frequency and how many different types of ShipRegion there are\n",
    "ordersdf.ShipRegion.value_counts()"
   ]
  },
  {
   "cell_type": "markdown",
   "metadata": {},
   "source": [
    "I will add a new binary column for Northern or Southern Hemisphere.  South America is the only region located in the Southern Hemisphere, so I will just check for whether `ShipRegion` is South America or not."
   ]
  },
  {
   "cell_type": "code",
   "execution_count": 47,
   "metadata": {},
   "outputs": [],
   "source": [
    "#creating columns for hemisphere\n",
    "ordersdf[\"Hemisphere\"] = [0 if region == \"South America\" else 1 for region in ordersdf.ShipRegion]"
   ]
  },
  {
   "cell_type": "markdown",
   "metadata": {},
   "source": [
    "I will then create another pandas Series of seasons based on the hemisphere and the date, using uneven meteorological dates (not astronomical) to determine the seasons: March 1, June 1, September 1 and December 1."
   ]
  },
  {
   "cell_type": "code",
   "execution_count": 48,
   "metadata": {},
   "outputs": [],
   "source": [
    "#function to classify seasons as numbers 1,2,3,4\n",
    "def which_season(month, hemisphere):#month is int 1-12, hemisphere is a boolean: 0 if Southern, 1 for Nothern\n",
    "    if hemisphere: #if Northern hemisphere\n",
    "        if 3<=month<6: #between March 1 and June 1, including March, excluding June\n",
    "            return 1 #1 for Spring\n",
    "        elif (6<=month<9):\n",
    "            return 2 #2 for Summer\n",
    "        elif 9<=month<12:\n",
    "            return 3\n",
    "        else:\n",
    "            return 4\n",
    "    else:#if Southern Hemisphere\n",
    "        if 3<=month<6: #between March 1 and June 1\n",
    "            return 3 #3 for Autumn\n",
    "        elif 6<=month<9:\n",
    "            return 4 #4 for Winter\n",
    "        elif 9<=month<12: #between September 1 and December 1\n",
    "            return 1 #1 for Spring\n",
    "        else:\n",
    "            return 2"
   ]
  },
  {
   "cell_type": "code",
   "execution_count": 49,
   "metadata": {},
   "outputs": [
    {
     "data": {
      "text/html": [
       "<div>\n",
       "<style scoped>\n",
       "    .dataframe tbody tr th:only-of-type {\n",
       "        vertical-align: middle;\n",
       "    }\n",
       "\n",
       "    .dataframe tbody tr th {\n",
       "        vertical-align: top;\n",
       "    }\n",
       "\n",
       "    .dataframe thead th {\n",
       "        text-align: right;\n",
       "    }\n",
       "</style>\n",
       "<table border=\"1\" class=\"dataframe\">\n",
       "  <thead>\n",
       "    <tr style=\"text-align: right;\">\n",
       "      <th></th>\n",
       "      <th>Id</th>\n",
       "      <th>ShippedDate</th>\n",
       "      <th>ShipVia</th>\n",
       "      <th>Freight</th>\n",
       "      <th>ShipRegion</th>\n",
       "      <th>ShipCountry</th>\n",
       "      <th>Hemisphere</th>\n",
       "      <th>Season</th>\n",
       "    </tr>\n",
       "  </thead>\n",
       "  <tbody>\n",
       "    <tr>\n",
       "      <th>0</th>\n",
       "      <td>10248</td>\n",
       "      <td>2012-07-16</td>\n",
       "      <td>3</td>\n",
       "      <td>32.38</td>\n",
       "      <td>Western Europe</td>\n",
       "      <td>France</td>\n",
       "      <td>1</td>\n",
       "      <td>2</td>\n",
       "    </tr>\n",
       "    <tr>\n",
       "      <th>1</th>\n",
       "      <td>10249</td>\n",
       "      <td>2012-07-10</td>\n",
       "      <td>1</td>\n",
       "      <td>11.61</td>\n",
       "      <td>Western Europe</td>\n",
       "      <td>Germany</td>\n",
       "      <td>1</td>\n",
       "      <td>2</td>\n",
       "    </tr>\n",
       "    <tr>\n",
       "      <th>2</th>\n",
       "      <td>10250</td>\n",
       "      <td>2012-07-12</td>\n",
       "      <td>2</td>\n",
       "      <td>65.83</td>\n",
       "      <td>South America</td>\n",
       "      <td>Brazil</td>\n",
       "      <td>0</td>\n",
       "      <td>4</td>\n",
       "    </tr>\n",
       "    <tr>\n",
       "      <th>3</th>\n",
       "      <td>10251</td>\n",
       "      <td>2012-07-15</td>\n",
       "      <td>1</td>\n",
       "      <td>41.34</td>\n",
       "      <td>Western Europe</td>\n",
       "      <td>France</td>\n",
       "      <td>1</td>\n",
       "      <td>2</td>\n",
       "    </tr>\n",
       "    <tr>\n",
       "      <th>4</th>\n",
       "      <td>10252</td>\n",
       "      <td>2012-07-11</td>\n",
       "      <td>2</td>\n",
       "      <td>51.30</td>\n",
       "      <td>Western Europe</td>\n",
       "      <td>Belgium</td>\n",
       "      <td>1</td>\n",
       "      <td>2</td>\n",
       "    </tr>\n",
       "  </tbody>\n",
       "</table>\n",
       "</div>"
      ],
      "text/plain": [
       "      Id ShippedDate  ShipVia  Freight      ShipRegion ShipCountry  \\\n",
       "0  10248  2012-07-16        3    32.38  Western Europe      France   \n",
       "1  10249  2012-07-10        1    11.61  Western Europe     Germany   \n",
       "2  10250  2012-07-12        2    65.83   South America      Brazil   \n",
       "3  10251  2012-07-15        1    41.34  Western Europe      France   \n",
       "4  10252  2012-07-11        2    51.30  Western Europe     Belgium   \n",
       "\n",
       "   Hemisphere  Season  \n",
       "0           1       2  \n",
       "1           1       2  \n",
       "2           0       4  \n",
       "3           1       2  \n",
       "4           1       2  "
      ]
     },
     "execution_count": 49,
     "metadata": {},
     "output_type": "execute_result"
    }
   ],
   "source": [
    "#create column for seasons based on hemisphere and shipping date\n",
    "ordersdf[\"Season\"] = [which_season(date.month, hemi) for date, hemi in zip(ordersdf.ShippedDate, ordersdf.Hemisphere)]\n",
    "ordersdf.head()"
   ]
  },
  {
   "cell_type": "markdown",
   "metadata": {},
   "source": [
    "July (7) is summer (2) in the Nothern Hemisphere and winter (4) in the Southern Hemisphere so we can see that the function and new columns were created as expected.\n",
    "\n",
    "I will now look at the frequency of the seasons graphically."
   ]
  },
  {
   "cell_type": "code",
   "execution_count": 19,
   "metadata": {},
   "outputs": [
    {
     "data": {
      "image/png": "[encoded data removed]",
      "text/plain": [
       "<Figure size 576x396 with 1 Axes>"
      ]
     },
     "metadata": {},
     "output_type": "display_data"
    }
   ],
   "source": [
    "import matplotlib.pyplot as plt\n",
    "%matplotlib inline\n",
    "\n",
    "plt.style.use(\"seaborn\")\n",
    "plt.hist(ordersdf.Season)\n",
    "plt.title(\"Season Frequency\")\n",
    "plt.xlabel(\"Spring, Summer, Autumn, Winter\")\n",
    "plt.ylabel(\"Count\")\n",
    "plt.show()"
   ]
  },
  {
   "cell_type": "code",
   "execution_count": 50,
   "metadata": {},
   "outputs": [
    {
     "data": {
      "text/html": [
       "<div>\n",
       "<style scoped>\n",
       "    .dataframe tbody tr th:only-of-type {\n",
       "        vertical-align: middle;\n",
       "    }\n",
       "\n",
       "    .dataframe tbody tr th {\n",
       "        vertical-align: top;\n",
       "    }\n",
       "\n",
       "    .dataframe thead th {\n",
       "        text-align: right;\n",
       "    }\n",
       "</style>\n",
       "<table border=\"1\" class=\"dataframe\">\n",
       "  <thead>\n",
       "    <tr style=\"text-align: right;\">\n",
       "      <th></th>\n",
       "      <th>Freight</th>\n",
       "      <th>Season</th>\n",
       "      <th>ShipVia</th>\n",
       "    </tr>\n",
       "  </thead>\n",
       "  <tbody>\n",
       "    <tr>\n",
       "      <th>0</th>\n",
       "      <td>32.38</td>\n",
       "      <td>2</td>\n",
       "      <td>3</td>\n",
       "    </tr>\n",
       "    <tr>\n",
       "      <th>1</th>\n",
       "      <td>11.61</td>\n",
       "      <td>2</td>\n",
       "      <td>1</td>\n",
       "    </tr>\n",
       "    <tr>\n",
       "      <th>2</th>\n",
       "      <td>65.83</td>\n",
       "      <td>4</td>\n",
       "      <td>2</td>\n",
       "    </tr>\n",
       "  </tbody>\n",
       "</table>\n",
       "</div>"
      ],
      "text/plain": [
       "   Freight  Season  ShipVia\n",
       "0    32.38       2        3\n",
       "1    11.61       2        1\n",
       "2    65.83       4        2"
      ]
     },
     "execution_count": 50,
     "metadata": {},
     "output_type": "execute_result"
    }
   ],
   "source": [
    "#put Season, ShipVia, and Freight into their own dataframe\n",
    "shipdf = pd.concat([ordersdf.Freight, ordersdf.Season, ordersdf.ShipVia], axis=1)\n",
    "\n",
    "#saving DataFrame as .CSV file to more easily access later, particularly in Hypothesis 3.\n",
    "shipdf.to_csv(path_or_buf=\"Ship.csv\")\n",
    "shipdf.head(3)"
   ]
  },
  {
   "cell_type": "code",
   "execution_count": 9,
   "metadata": {},
   "outputs": [
    {
     "name": "stdout",
     "output_type": "stream",
     "text": [
      "<class 'pandas.core.frame.DataFrame'>\n",
      "RangeIndex: 830 entries, 0 to 829\n",
      "Data columns (total 3 columns):\n",
      "Freight    830 non-null float64\n",
      "Season     830 non-null int64\n",
      "ShipVia    830 non-null int64\n",
      "dtypes: float64(1), int64(2)\n",
      "memory usage: 19.5 KB\n"
     ]
    }
   ],
   "source": [
    "import pandas as pd\n",
    "\n",
    "#reading in the .csv file\n",
    "shipdf = pd.read_csv(\"Ship.csv\")\n",
    "\n",
    "#looking at aspects of the DataFrame\n",
    "shipdf.drop(columns=[\"Unnamed: 0\"], inplace=True)\n",
    "shipdf.info()"
   ]
  },
  {
   "cell_type": "markdown",
   "metadata": {},
   "source": [
    "I will now consider whether meteorological winter is a more expensive season for shipping."
   ]
  },
  {
   "cell_type": "code",
   "execution_count": 10,
   "metadata": {},
   "outputs": [],
   "source": [
    "#separate Freight by season into two lists (winter and the rest)\n",
    "winter=[x for x, y in zip(shipdf[\"Freight\"], shipdf[\"Season\"]) if y==4]\n",
    "notwinter=[x for x, y in zip(shipdf[\"Freight\"], shipdf[\"Season\"]) if y!=4]"
   ]
  },
  {
   "cell_type": "markdown",
   "metadata": {},
   "source": [
    "Now looking at histograms to compare the distribution of the frequency of the freight costs."
   ]
  },
  {
   "cell_type": "code",
   "execution_count": 52,
   "metadata": {},
   "outputs": [
    {
     "data": {
      "image/png": "[encoded data removed]",
      "text/plain": [
       "<Figure size 864x288 with 2 Axes>"
      ]
     },
     "metadata": {},
     "output_type": "display_data"
    }
   ],
   "source": [
    "import matplotlib.pyplot as plt\n",
    "%matplotlib inline\n",
    "plt.style.use(\"seaborn\")\n",
    "\n",
    "#looking at the distribution of each list\n",
    "#making axes and a figure to show them side-by-side\n",
    "plt.figure(figsize=(12, 4))\n",
    "\n",
    "plt.subplot(121)\n",
    "plt.hist(winter)\n",
    "plt.title(\"Winter\")\n",
    "plt.xlabel(\"Freight Costs\")\n",
    "plt.ylabel(\"Frequency\")\n",
    "\n",
    "plt.subplot(122)\n",
    "plt.hist(notwinter)\n",
    "plt.title(\"Rest of the Year (Apart from Winter)\")\n",
    "plt.xlabel(\"Freight Costs\")\n",
    "plt.ylabel(\"Frequency\")\n",
    "\n",
    "plt.show()"
   ]
  },
  {
   "cell_type": "code",
   "execution_count": 11,
   "metadata": {
    "collapsed": true
   },
   "outputs": [
    {
     "data": {
      "image/png": "[encoded data removed]",
      "text/plain": [
       "<Figure size 576x396 with 1 Axes>"
      ]
     },
     "metadata": {},
     "output_type": "display_data"
    }
   ],
   "source": [
    "#saving plots individually to use in the PowerPoint presentation\n",
    "import matplotlib.pyplot as plt\n",
    "%matplotlib inline\n",
    "plt.style.use(\"seaborn\")\n",
    "\n",
    "#looking at the distribution of each list\n",
    "#making axes and a figure to show them side-by-side\n",
    "plt.hist(winter)\n",
    "plt.title(\"Winter\")\n",
    "plt.xlabel(\"Freight Costs\")\n",
    "plt.ylabel(\"Frequency\")\n",
    "plt.savefig(\"wintryfreight.png\")"
   ]
  },
  {
   "cell_type": "code",
   "execution_count": 12,
   "metadata": {
    "collapsed": true
   },
   "outputs": [
    {
     "data": {
      "image/png": "[encoded data removed]",
      "text/plain": [
       "<Figure size 432x288 with 1 Axes>"
      ]
     },
     "metadata": {
      "needs_background": "light"
     },
     "output_type": "display_data"
    }
   ],
   "source": [
    "plt.hist(notwinter)\n",
    "plt.title(\"Rest of the Year (Apart from Winter)\")\n",
    "plt.xlabel(\"Freight Costs\")\n",
    "plt.ylabel(\"Frequency\")\n",
    "plt.savefig(\"milderfreight.png\")"
   ]
  },
  {
   "cell_type": "markdown",
   "metadata": {},
   "source": [
    "The distribution of the freight by frequency definitely looks left-skewed.  A log transformation may normalize it."
   ]
  },
  {
   "cell_type": "code",
   "execution_count": 53,
   "metadata": {},
   "outputs": [],
   "source": [
    "import numpy as np\n",
    "logWinter = np.log(winter)\n",
    "logNotWint = np.log(notwinter)"
   ]
  },
  {
   "cell_type": "code",
   "execution_count": 54,
   "metadata": {},
   "outputs": [
    {
     "data": {
      "image/png": "[encoded data removed]",
      "text/plain": [
       "<Figure size 864x288 with 2 Axes>"
      ]
     },
     "metadata": {},
     "output_type": "display_data"
    }
   ],
   "source": [
    "import matplotlib.pyplot as plt\n",
    "%matplotlib inline\n",
    "plt.style.use(\"seaborn\")\n",
    "\n",
    "#looking at the distribution of each list, now log-transformed\n",
    "\n",
    "plt.figure(figsize=(12, 4))\n",
    "\n",
    "plt.subplot(121)\n",
    "plt.hist(logWinter)\n",
    "plt.title(\"log(Winter)\")\n",
    "plt.xlabel(\"Freight Costs\")\n",
    "plt.ylabel(\"Frequency\")\n",
    "\n",
    "plt.subplot(122)\n",
    "plt.hist(logNotWint)\n",
    "plt.title(\"log(Rest of the Year (Apart from Winter))\")\n",
    "plt.xlabel(\"Freight Costs\")\n",
    "plt.ylabel(\"Frequency\")\n",
    "\n",
    "plt.show()"
   ]
  },
  {
   "cell_type": "markdown",
   "metadata": {},
   "source": [
    "The log transformation normalized and even skewed the data a little bit more right."
   ]
  },
  {
   "cell_type": "code",
   "execution_count": 55,
   "metadata": {},
   "outputs": [
    {
     "name": "stdout",
     "output_type": "stream",
     "text": [
      "KstestResult(statistic=0.8418477074565337, pvalue=0.0)\n",
      "KstestResult(statistic=0.8074438916319717, pvalue=0.0)\n"
     ]
    }
   ],
   "source": [
    "from scipy import stats\n",
    "\n",
    "for each in [logWinter, logNotWint]:\n",
    "    print(stats.kstest(each,'norm'))"
   ]
  },
  {
   "cell_type": "markdown",
   "metadata": {},
   "source": [
    "These Kolmogorov-Smirnov test results confirm that the distributions are close to normal, with a p-value of less than .05."
   ]
  },
  {
   "cell_type": "markdown",
   "metadata": {},
   "source": [
    "The following four cells save the log-transformed lists as CSV files and then imports them into lists again."
   ]
  },
  {
   "cell_type": "code",
   "execution_count": 28,
   "metadata": {},
   "outputs": [],
   "source": [
    "import csv\n",
    "\n",
    "#saving log-transformed data for easy resuming of project\n",
    "with open(\"logWinter.csv\",\"w\") as f:\n",
    "    writ = csv.writer(f,delimiter=\"\\n\")\n",
    "    writ.writerow(logWinter)"
   ]
  },
  {
   "cell_type": "code",
   "execution_count": 29,
   "metadata": {},
   "outputs": [],
   "source": [
    "with open(\"logNotWint.csv\",\"w\") as f:\n",
    "    writ = csv.writer(f,delimiter=\"\\n\")\n",
    "    writ.writerow(logNotWint)"
   ]
  },
  {
   "cell_type": "code",
   "execution_count": 1,
   "metadata": {},
   "outputs": [],
   "source": [
    "#read in lists of log-transformed data\n",
    "import csv\n",
    "\n",
    "logWinter=[]\n",
    "\n",
    "with open('logWinter.csv') as file:\n",
    "    CSVreader = csv.reader(file)\n",
    "    for each in CSVreader:\n",
    "        if len(each):\n",
    "            num = float(each[0])\n",
    "            logWinter.append(num)"
   ]
  },
  {
   "cell_type": "code",
   "execution_count": 2,
   "metadata": {},
   "outputs": [],
   "source": [
    "logNotWint=[]\n",
    "\n",
    "with open('logNotWint.csv') as file:\n",
    "    CSVreader = csv.reader(file, delimiter='\\n')\n",
    "    for each in CSVreader:\n",
    "        if len(each):\n",
    "            num = float(each[0])\n",
    "            logNotWint.append(num)"
   ]
  },
  {
   "cell_type": "markdown",
   "metadata": {},
   "source": [
    "I'll resample and get a normal distribution and then compare effect size."
   ]
  },
  {
   "cell_type": "code",
   "execution_count": 3,
   "metadata": {},
   "outputs": [],
   "source": [
    "import numpy as np\n",
    "np.random.seed(25)#so this notebook's conclusions can be replicable\n",
    "\n",
    "#get a normally distributed sample by resampling\n",
    "def resample(values):#a list of values to be resampled from\n",
    "    dist=[] \n",
    "    for j in range(50):#loop to get 50 means for the sample-created distribution\n",
    "        selection=[]#selection to store the random sample of 20 items from values\n",
    "        for i in range(20):#loop to get 20 values for a sample\n",
    "            val = np.random.choice(values)#take a sample\n",
    "            selection.append(val)\n",
    "        dist.append(np.mean(selection))#find the sample's mean and add it to new distribution\n",
    "    return dist#returning the distribution of sample means"
   ]
  },
  {
   "cell_type": "markdown",
   "metadata": {},
   "source": [
    "I'll look at Cohen's $d$ statistic to show the magnitude of difference between the discounted and non-discounted items."
   ]
  },
  {
   "cell_type": "code",
   "execution_count": 4,
   "metadata": {},
   "outputs": [],
   "source": [
    "#create normally distributed lists of sample means\n",
    "sample_winter = resample(logWinter)\n",
    "sample_notwint = resample(logNotWint)"
   ]
  },
  {
   "cell_type": "code",
   "execution_count": 6,
   "metadata": {},
   "outputs": [],
   "source": [
    "import scipy.stats\n",
    "#make the normalized resampled means into a sample of a normal continuous random variable\n",
    "norm_winter = scipy.stats.norm.rvs(loc=np.mean(sample_winter), scale=np.std(sample_winter), size=1000, random_state=25)\n",
    "norm_notwint = scipy.stats.norm.rvs(loc=np.mean(sample_notwint), scale= np.std(sample_notwint), size=1000, random_state=25)\n",
    "#setting random_state so the results are reproducible"
   ]
  },
  {
   "cell_type": "code",
   "execution_count": 7,
   "metadata": {},
   "outputs": [],
   "source": [
    "def Cohen_d(group1, group2):\n",
    "    diff = abs(group1.mean() - group2.mean())#difference between means\n",
    "    var1 = group1.var()#variances\n",
    "    var2 = group2.var()\n",
    "    n1, n2 = len(group1), len(group2)\n",
    "    \n",
    "    #calculate the pooled threshold for the denominator\n",
    "    pooled_var = (n1*var1 + n2*var2)/(n1 + n2)\n",
    "    \n",
    "    #calculate Cohen's d statistic\n",
    "    d = diff / np.sqrt(pooled_var)\n",
    "    \n",
    "    return d"
   ]
  },
  {
   "cell_type": "code",
   "execution_count": 8,
   "metadata": {},
   "outputs": [
    {
     "data": {
      "text/plain": [
       "0.10933272781189324"
      ]
     },
     "execution_count": 8,
     "metadata": {},
     "output_type": "execute_result"
    }
   ],
   "source": [
    "Cohen_d(norm_notwint, norm_winter)"
   ]
  },
  {
   "cell_type": "markdown",
   "metadata": {},
   "source": [
    "Cohen's $d$ statistic shows there may be a very small effect from the wintry season on the price of shipping (`freight`), as it is lower than 0.2 (\"small effect\")."
   ]
  },
  {
   "cell_type": "markdown",
   "metadata": {},
   "source": [
    "## Hypothesis 3: The Shipping Company has no effect on the shipping costs.\n",
    "Using `ShipVia` and `Freight`, I will compare the three shipping companies (categorized as 1,2,3 in `ShipVia`) to see what sort of effect size they have on the cost of shipping products (`Frieght`)."
   ]
  },
  {
   "cell_type": "code",
   "execution_count": 61,
   "metadata": {},
   "outputs": [
    {
     "name": "stdout",
     "output_type": "stream",
     "text": [
      "<class 'pandas.core.frame.DataFrame'>\n",
      "RangeIndex: 830 entries, 0 to 829\n",
      "Data columns (total 3 columns):\n",
      "Freight    830 non-null float64\n",
      "Season     830 non-null int64\n",
      "ShipVia    830 non-null int64\n",
      "dtypes: float64(1), int64(2)\n",
      "memory usage: 19.5 KB\n"
     ]
    }
   ],
   "source": [
    "#import previously created table of the Orders/Shipping dataframe\n",
    "import pandas as pd\n",
    "\n",
    "#reading in the .csv file that saved Season, ShipVia and Freight\n",
    "shipdf = pd.read_csv(\"Ship.csv\")\n",
    "\n",
    "#looking at aspects of the DataFrame\n",
    "shipdf.drop(columns=[\"Unnamed: 0\"], inplace=True)\n",
    "shipdf.info()"
   ]
  },
  {
   "cell_type": "code",
   "execution_count": 63,
   "metadata": {},
   "outputs": [
    {
     "data": {
      "text/plain": [
       "2    326\n",
       "3    255\n",
       "1    249\n",
       "Name: ShipVia, dtype: int64"
      ]
     },
     "execution_count": 63,
     "metadata": {},
     "output_type": "execute_result"
    }
   ],
   "source": [
    "shipdf.ShipVia.value_counts()"
   ]
  },
  {
   "cell_type": "code",
   "execution_count": 62,
   "metadata": {},
   "outputs": [],
   "source": [
    "#put them into three lists, separating out by company 1 2 or 3\n",
    "shipvia_1 = [x for x, y in zip(shipdf[\"Freight\"], shipdf[\"ShipVia\"]) if y==1]\n",
    "shipvia_2 = [x for x, y in zip(shipdf[\"Freight\"], shipdf[\"ShipVia\"]) if y==2]\n",
    "shipvia_3 = [x for x, y in zip(shipdf[\"Freight\"], shipdf[\"ShipVia\"]) if y==3]"
   ]
  },
  {
   "cell_type": "code",
   "execution_count": 64,
   "metadata": {},
   "outputs": [
    {
     "name": "stdout",
     "output_type": "stream",
     "text": [
      "['Category', 'Customer', 'CustomerCustomerDemo', 'CustomerDemographic', 'Employee', 'EmployeeTerritory', 'OrderDetail', 'Orders', 'Product', 'Region', 'Shipper', 'Supplier', 'Territory']\n"
     ]
    }
   ],
   "source": [
    "import sqlalchemy\n",
    "from sqlalchemy import create_engine\n",
    "from sqlalchemy import inspect\n",
    "\n",
    "myengine = create_engine(\"sqlite:///Northwind_small.sqlite\")\n",
    "inspector = inspect(myengine)\n",
    "\n",
    "print(inspector.get_table_names())#check the table names in Northwind"
   ]
  },
  {
   "cell_type": "markdown",
   "metadata": {},
   "source": [
    "The table is actually called `Shipper`, not \"Shippers\" like the diagram.  Also, according to the diagram, the two variables of interest are the `ShipperID` and the `CompanyName`."
   ]
  },
  {
   "cell_type": "code",
   "execution_count": 65,
   "metadata": {},
   "outputs": [
    {
     "data": {
      "text/plain": [
       "[(1, 'Speedy Express'), (2, 'United Package'), (3, 'Federal Shipping')]"
      ]
     },
     "execution_count": 65,
     "metadata": {},
     "output_type": "execute_result"
    }
   ],
   "source": [
    "#getting shipping companies' information from 'Shipper' database\n",
    "conn = myengine.connect()\n",
    "shippers = conn.execute('''SELECT Id, CompanyName FROM Shipper;''').fetchall()\n",
    "shippers"
   ]
  },
  {
   "cell_type": "code",
   "execution_count": 67,
   "metadata": {},
   "outputs": [
    {
     "data": {
      "text/plain": [
       "{1: 'Speedy Express', 2: 'United Package', 3: 'Federal Shipping'}"
      ]
     },
     "execution_count": 67,
     "metadata": {},
     "output_type": "execute_result"
    }
   ],
   "source": [
    "#convert names and id's into dictionary\n",
    "shipdict = dict()\n",
    "for each in shippers:\n",
    "    shipdict[each[0]]=each[1]\n",
    "shipdict"
   ]
  },
  {
   "cell_type": "code",
   "execution_count": 68,
   "metadata": {},
   "outputs": [
    {
     "data": {
      "image/png": "[encoded data removed]",
      "text/plain": [
       "<Figure size 1296x288 with 3 Axes>"
      ]
     },
     "metadata": {},
     "output_type": "display_data"
    }
   ],
   "source": [
    "#graph to see how normal distribution looks\n",
    "import matplotlib.pyplot as plt\n",
    "%matplotlib inline\n",
    "\n",
    "plt.style.use(\"seaborn\")\n",
    "plt.figure(figsize=(18, 4))\n",
    "\n",
    "plt.subplot(131)\n",
    "plt.hist(shipvia_1)\n",
    "plt.title(f\"{shipdict[1]}\")\n",
    "plt.xlabel(\"Freight Costs\")\n",
    "plt.ylabel(\"Frequency\")\n",
    "\n",
    "plt.subplot(132)\n",
    "plt.hist(shipvia_2)\n",
    "plt.title(f\"{shipdict[2]}\")\n",
    "plt.xlabel(\"Freight Costs\")\n",
    "plt.ylabel(\"Frequency\")\n",
    "\n",
    "plt.subplot(133)\n",
    "plt.hist(shipvia_3)\n",
    "plt.title(f\"{shipdict[3]}\")\n",
    "plt.xlabel(\"Freight Costs\")\n",
    "plt.ylabel(\"Frequency\")\n",
    "\n",
    "plt.show()"
   ]
  },
  {
   "cell_type": "markdown",
   "metadata": {},
   "source": [
    "All three of the distributions look left-skewed."
   ]
  },
  {
   "cell_type": "code",
   "execution_count": 69,
   "metadata": {},
   "outputs": [],
   "source": [
    "#normalize, resample, etc. to get normal distributions\n",
    "import numpy as np\n",
    "np.random.seed(25)#setting a seed for reproducible results\n",
    "\n",
    "#define a resampling function to get a normal distribution\n",
    "def resample(values): # a list of numbers\n",
    "    dist=[]#initializing the distribution which will be returned\n",
    "    for j in range(50): # looping 50 times to get 50 means in dist\n",
    "        selection=[] # resetting selection\n",
    "        for i in range(30): # looping to select 30 times from values\n",
    "            val = np.random.choice(values)\n",
    "            selection.append(val)\n",
    "        dist.append(np.mean(selection)) # add the mean of selection to dist\n",
    "    return dist # returning a list of 50 sample means"
   ]
  },
  {
   "cell_type": "markdown",
   "metadata": {},
   "source": [
    "I'll look at Cohen's $d$ statistic to show the difference in costs between the three shipping companies in pairs: 1 & 2; 2 & 3; and 1 & 3."
   ]
  },
  {
   "cell_type": "code",
   "execution_count": 70,
   "metadata": {},
   "outputs": [],
   "source": [
    "#create normally distributed lists of sample means\n",
    "sample_Ship1 = resample(shipvia_1)\n",
    "sample_Ship2 = resample(shipvia_2)\n",
    "sample_Ship3 = resample(shipvia_3)"
   ]
  },
  {
   "cell_type": "code",
   "execution_count": 71,
   "metadata": {},
   "outputs": [],
   "source": [
    "import scipy.stats as stats\n",
    "#make the normalized resampled means into a sample of a normal continuous random variable\n",
    "norm_Ship1 = stats.norm.rvs(loc=np.mean(sample_Ship1), scale=np.std(sample_Ship1), size=1000, random_state=25)\n",
    "norm_Ship2 = stats.norm.rvs(loc=np.mean(sample_Ship2), scale=np.std(sample_Ship2), size=1000, random_state=25)\n",
    "norm_Ship3 = stats.norm.rvs(loc=np.mean(sample_Ship3), scale=np.std(sample_Ship3), size=1000, random_state=25)\n",
    "#setting random_state so the results are reproducible"
   ]
  },
  {
   "cell_type": "code",
   "execution_count": 72,
   "metadata": {},
   "outputs": [],
   "source": [
    "def Cohen_d(group1, group2):\n",
    "    diff = abs(group1.mean() - group2.mean())#difference between means\n",
    "    var1 = group1.var()#variances\n",
    "    var2 = group2.var()\n",
    "    n1, n2 = len(group1), len(group2)\n",
    "    \n",
    "    #calculate the pooled threshold for the denominator\n",
    "    pooled_var = (n1*var1 + n2*var2)/(n1 + n2)\n",
    "    \n",
    "    #calculate Cohen's d statistic\n",
    "    d = diff / np.sqrt(pooled_var)\n",
    "    \n",
    "    return d"
   ]
  },
  {
   "cell_type": "code",
   "execution_count": 79,
   "metadata": {},
   "outputs": [
    {
     "name": "stdout",
     "output_type": "stream",
     "text": [
      "The companies are identified as follows:\n",
      "{1: 'Speedy Express', 2: 'United Package', 3: 'Federal Shipping'}\n",
      "The first pair of Shipping Companies (Speedy Express and United Package) have a large effect size: 0.7976501268118755\n",
      "The second pair of Shipping Companies (Speedy Express and Federal Shipping) have a large effect size: 0.7042240079533493\n",
      "The third pair of Shipping Companies (United Package and Federal Shipping) have a small effect size: 0.04715228375178642\n"
     ]
    }
   ],
   "source": [
    "# creating pairs to compare effect size:\n",
    "pairs = [[norm_Ship1, norm_Ship2],[norm_Ship1, norm_Ship3],[norm_Ship2, norm_Ship3]]\n",
    "\n",
    "print(\"The companies are identified as follows:\")\n",
    "print(shipdict)\n",
    "\n",
    "#running for loop to print out information\n",
    "for idx, pair in enumerate(pairs):\n",
    "    if idx ==0:\n",
    "        number = \"first\"\n",
    "        pair1 = shipdict[1]\n",
    "        pair2 = shipdict[2]\n",
    "    elif idx==1:\n",
    "        number=\"second\"\n",
    "        pair1=shipdict[1]\n",
    "        pair2=shipdict[3]\n",
    "    else:\n",
    "        number=\"third\"\n",
    "        pair1=shipdict[2]\n",
    "        pair2 = shipdict[3]\n",
    "        \n",
    "    smallBreak = (0.2+0.5)/2\n",
    "    largeBreak = (0.5+0.8)/2\n",
    "    \n",
    "    d = abs(Cohen_d(pair[0],pair[1]))\n",
    "    \n",
    "    if d<=smallBreak: # around 0.2 is a small effect size\n",
    "        adjective=\"small\"\n",
    "    elif d<=largeBreak: # around 0.5 is a medium effect size\n",
    "        adjective = \"medium\"\n",
    "    else: # around 0.8 is a large effect size\n",
    "        adjective = \"large\"\n",
    "    \n",
    "    print(f\"The {number} pair of Shipping Companies ({pair1} and {pair2}) have a {adjective} effect size: {d}\")"
   ]
  },
  {
   "cell_type": "markdown",
   "metadata": {},
   "source": [
    "The small effect size when comparing `ShipVia` companies 2 and 3 (United Package and Federal Shipping) indicates that there is almost no difference between them that affect the price of shipping (the `Freight` variable).\n",
    "\n",
    "Contrastingly, there is a relatively large effect size when comparing `ShipVia` company 1 (Speedy Express) to either 2 or 3 (United Package and Federal Shipping, respectively), which means the price of shipping is affected when using company 1 versus 2 or 3."
   ]
  },
  {
   "cell_type": "code",
   "execution_count": 80,
   "metadata": {},
   "outputs": [
    {
     "data": {
      "text/plain": [
       "14.01"
      ]
     },
     "execution_count": 80,
     "metadata": {},
     "output_type": "execute_result"
    }
   ],
   "source": [
    "#combining shipvia_2 and shipvia_3\n",
    "shipvia_23 = shipvia_2+shipvia_3\n",
    "shipvia_23[-1]"
   ]
  },
  {
   "cell_type": "code",
   "execution_count": 81,
   "metadata": {},
   "outputs": [
    {
     "name": "stdout",
     "output_type": "stream",
     "text": [
      "2.3333333333333335\n"
     ]
    }
   ],
   "source": [
    "print(len(shipvia_23)/len(shipvia_1))"
   ]
  },
  {
   "cell_type": "code",
   "execution_count": 82,
   "metadata": {},
   "outputs": [
    {
     "data": {
      "text/plain": [
       "6.999999900000001"
      ]
     },
     "execution_count": 82,
     "metadata": {},
     "output_type": "execute_result"
    }
   ],
   "source": [
    "2.3333333*3"
   ]
  },
  {
   "cell_type": "markdown",
   "metadata": {},
   "source": [
    "The `ShipVia` for combined companies 2 and 3 is 2-1/3 (or seven-thirds) times larger than company 1.  To get a reasonably comparable graph using histograms, the number of bins should be adjusted proportionately, with a ratio of 3:7."
   ]
  },
  {
   "cell_type": "code",
   "execution_count": 83,
   "metadata": {},
   "outputs": [
    {
     "data": {
      "image/png": "[encoded data removed]",
      "text/plain": [
       "<Figure size 432x288 with 2 Axes>"
      ]
     },
     "metadata": {
      "needs_background": "light"
     },
     "output_type": "display_data"
    }
   ],
   "source": [
    "# now comparing only shipvia_1 to shipvia_2 and shipvia_3 combined\n",
    "import matplotlib.pyplot as plt\n",
    "%matplotlib inline\n",
    "\n",
    "#compare both distributions with frequency on different scales\n",
    "#since shipvia_23 has about twice as many records as shipvia_1\n",
    "\n",
    "fig, ax1 = plt.subplots()\n",
    "\n",
    "ax1.hist(shipvia_1, alpha=0.5, label=shipdict[1], color=\"blue\", bins=9)\n",
    "ax1.set_xlabel(\"Price of Freight\")\n",
    "ax1.set_ylabel(f'Frequency for {shipdict[1]}', color=\"blue\")\n",
    "ax1.tick_params(axis='y', labelcolor=\"blue\")\n",
    "ax1.legend(loc=9)\n",
    "plt.grid(b=None)\n",
    "\n",
    "ax2 = ax1.twinx() #creating a second axes that shares the x-axis but has a different scale for the y-axis\n",
    "ax2.hist(shipvia_23, alpha = 0.5, label=shipdict[2]+\" & \"+shipdict[3], color=\"red\", bins=21)\n",
    "ax2.set_ylabel(f'Frequency for {shipdict[2]} & {shipdict[3]}', color=\"red\")# x label was already set in ax1, and they share the x-axis\n",
    "ax2.tick_params(axis='y', labelcolor=\"red\")\n",
    "ax2.legend(loc=0)\n",
    "plt.grid(b=None)\n",
    "plt.show()"
   ]
  },
  {
   "cell_type": "markdown",
   "metadata": {},
   "source": [
    "The above histogram shows `ShipVia` for companies 2 and 3 (United Package and Federal Shipping, respectively) and company 1 (Speedy Express) to have very similar distributions, with much overlap at the lower values of `Freight`.  Higher values (above 250 or so) are less common or non-existent in company 1 compared to companies 2 or 3 so perhaps this difference accounts for the large effect size noted above.  That is, maybe when shipping with company 2 or 3, it is slightly more likely to have a significantly higher freight cost."
   ]
  },
  {
   "cell_type": "markdown",
   "metadata": {},
   "source": [
    "## Hypothesis 4: Orders for products that are in stock or have not been discontinued have higher totals than those that are out of stock or are discontinued"
   ]
  },
  {
   "cell_type": "markdown",
   "metadata": {},
   "source": [
    "Finding effect size between prices (totals) of orders that are in stock & not discontinued compared to out of stock & discontinued orders by looking at OrderId from OrderDetails because that has the discount and quantity, which are needed to get the total amount of money spent on that product in a particular order."
   ]
  },
  {
   "cell_type": "code",
   "execution_count": 14,
   "metadata": {},
   "outputs": [
    {
     "name": "stdout",
     "output_type": "stream",
     "text": [
      "['Category', 'Customer', 'CustomerCustomerDemo', 'CustomerDemographic', 'Employee', 'EmployeeTerritory', 'OrderDetail', 'Orders', 'Product', 'Region', 'Shipper', 'Supplier', 'Territory']\n"
     ]
    }
   ],
   "source": [
    "#SQLite block setting up for importing the data, looking at table names\n",
    "import sqlalchemy\n",
    "from sqlalchemy import create_engine\n",
    "from sqlalchemy import inspect\n",
    "\n",
    "myengine = create_engine(\"sqlite:///Northwind_small.sqlite\")\n",
    "inspector = inspect(myengine)\n",
    "conn = myengine.connect()\n",
    "\n",
    "print(inspector.get_table_names())#check the table names in Northwind"
   ]
  },
  {
   "cell_type": "code",
   "execution_count": 15,
   "metadata": {},
   "outputs": [],
   "source": [
    "cols = inspector.get_columns(\"Product\")\n",
    "pdcols = []\n",
    "for col in cols:\n",
    "    pdcols.append(col['name'])"
   ]
  },
  {
   "cell_type": "code",
   "execution_count": 16,
   "metadata": {},
   "outputs": [
    {
     "data": {
      "text/plain": [
       "['Id',\n",
       " 'ProductName',\n",
       " 'SupplierId',\n",
       " 'CategoryId',\n",
       " 'QuantityPerUnit',\n",
       " 'UnitPrice',\n",
       " 'UnitsInStock',\n",
       " 'UnitsOnOrder',\n",
       " 'ReorderLevel',\n",
       " 'Discontinued']"
      ]
     },
     "execution_count": 16,
     "metadata": {},
     "output_type": "execute_result"
    }
   ],
   "source": [
    "#Product columns\n",
    "pdcols"
   ]
  },
  {
   "cell_type": "code",
   "execution_count": 17,
   "metadata": {},
   "outputs": [],
   "source": [
    "cols = inspector.get_columns(\"OrderDetail\")\n",
    "odcols = []\n",
    "for col in cols:\n",
    "    odcols.append(col['name'])"
   ]
  },
  {
   "cell_type": "code",
   "execution_count": 18,
   "metadata": {},
   "outputs": [
    {
     "data": {
      "text/plain": [
       "['Id', 'OrderId', 'ProductId', 'UnitPrice', 'Quantity', 'Discount']"
      ]
     },
     "execution_count": 18,
     "metadata": {},
     "output_type": "execute_result"
    }
   ],
   "source": [
    "#OrderDetail columns\n",
    "odcols"
   ]
  },
  {
   "cell_type": "code",
   "execution_count": 19,
   "metadata": {},
   "outputs": [],
   "source": [
    "#joining OrderDetail with Product to get dataframe of order info listed by individual product with the in stock\n",
    "#or discontinued flags (UnitsInStock and Discontinued, respectively)\n",
    "ordersOOSorDisc = conn.execute('''SELECT OrderDetail.*, Product.Id AS ProdId, Product.Discontinued,\n",
    "Product.UnitsInStock\n",
    "FROM OrderDetail\n",
    "  JOIN Product\n",
    "    ON ProdId = OrderDetail.ProductId''').fetchall()"
   ]
  },
  {
   "cell_type": "code",
   "execution_count": 20,
   "metadata": {},
   "outputs": [
    {
     "data": {
      "text/plain": [
       "['Id',\n",
       " 'OrderId',\n",
       " 'ProductId',\n",
       " 'UnitPrice',\n",
       " 'Quantity',\n",
       " 'Discount',\n",
       " 'ProductId2',\n",
       " 'Discontinued',\n",
       " 'UnitsInStock']"
      ]
     },
     "execution_count": 20,
     "metadata": {},
     "output_type": "execute_result"
    }
   ],
   "source": [
    "#combine lists of columns into appropriate names:\n",
    "sdcols = odcols.copy()\n",
    "sdcols.append(\"ProductId2\")\n",
    "sdcols.append(pdcols[-1])\n",
    "sdcols.append(pdcols[-4])\n",
    "sdcols"
   ]
  },
  {
   "cell_type": "code",
   "execution_count": 21,
   "metadata": {},
   "outputs": [
    {
     "name": "stdout",
     "output_type": "stream",
     "text": [
      "<class 'pandas.core.frame.DataFrame'>\n",
      "RangeIndex: 2155 entries, 0 to 2154\n",
      "Data columns (total 9 columns):\n",
      "Id              2155 non-null object\n",
      "OrderId         2155 non-null int64\n",
      "ProductId       2155 non-null int64\n",
      "UnitPrice       2155 non-null float64\n",
      "Quantity        2155 non-null int64\n",
      "Discount        2155 non-null float64\n",
      "ProductId2      2155 non-null int64\n",
      "Discontinued    2155 non-null int64\n",
      "UnitsInStock    2155 non-null int64\n",
      "dtypes: float64(2), int64(6), object(1)\n",
      "memory usage: 151.6+ KB\n"
     ]
    }
   ],
   "source": [
    "import pandas as pd\n",
    "\n",
    "ordersOOSDdf = pd.DataFrame(ordersOOSorDisc, columns=sdcols)\n",
    "ordersOOSDdf.info()"
   ]
  },
  {
   "cell_type": "code",
   "execution_count": 25,
   "metadata": {},
   "outputs": [
    {
     "data": {
      "text/html": [
       "<div>\n",
       "<style scoped>\n",
       "    .dataframe tbody tr th:only-of-type {\n",
       "        vertical-align: middle;\n",
       "    }\n",
       "\n",
       "    .dataframe tbody tr th {\n",
       "        vertical-align: top;\n",
       "    }\n",
       "\n",
       "    .dataframe thead th {\n",
       "        text-align: right;\n",
       "    }\n",
       "</style>\n",
       "<table border=\"1\" class=\"dataframe\">\n",
       "  <thead>\n",
       "    <tr style=\"text-align: right;\">\n",
       "      <th></th>\n",
       "      <th>Unnamed: 0</th>\n",
       "      <th>Id</th>\n",
       "      <th>OrderId</th>\n",
       "      <th>ProductId</th>\n",
       "      <th>UnitPrice</th>\n",
       "      <th>Quantity</th>\n",
       "      <th>Discount</th>\n",
       "      <th>Discontinued</th>\n",
       "      <th>UnitsInStock</th>\n",
       "    </tr>\n",
       "  </thead>\n",
       "  <tbody>\n",
       "    <tr>\n",
       "      <th>0</th>\n",
       "      <td>0</td>\n",
       "      <td>10248/11</td>\n",
       "      <td>10248</td>\n",
       "      <td>11</td>\n",
       "      <td>14.0</td>\n",
       "      <td>12</td>\n",
       "      <td>0.0</td>\n",
       "      <td>0</td>\n",
       "      <td>22</td>\n",
       "    </tr>\n",
       "    <tr>\n",
       "      <th>1</th>\n",
       "      <td>1</td>\n",
       "      <td>10248/42</td>\n",
       "      <td>10248</td>\n",
       "      <td>42</td>\n",
       "      <td>9.8</td>\n",
       "      <td>10</td>\n",
       "      <td>0.0</td>\n",
       "      <td>1</td>\n",
       "      <td>26</td>\n",
       "    </tr>\n",
       "    <tr>\n",
       "      <th>2</th>\n",
       "      <td>2</td>\n",
       "      <td>10248/72</td>\n",
       "      <td>10248</td>\n",
       "      <td>72</td>\n",
       "      <td>34.8</td>\n",
       "      <td>5</td>\n",
       "      <td>0.0</td>\n",
       "      <td>0</td>\n",
       "      <td>14</td>\n",
       "    </tr>\n",
       "    <tr>\n",
       "      <th>3</th>\n",
       "      <td>3</td>\n",
       "      <td>10249/14</td>\n",
       "      <td>10249</td>\n",
       "      <td>14</td>\n",
       "      <td>18.6</td>\n",
       "      <td>9</td>\n",
       "      <td>0.0</td>\n",
       "      <td>0</td>\n",
       "      <td>35</td>\n",
       "    </tr>\n",
       "    <tr>\n",
       "      <th>4</th>\n",
       "      <td>4</td>\n",
       "      <td>10249/51</td>\n",
       "      <td>10249</td>\n",
       "      <td>51</td>\n",
       "      <td>42.4</td>\n",
       "      <td>40</td>\n",
       "      <td>0.0</td>\n",
       "      <td>0</td>\n",
       "      <td>20</td>\n",
       "    </tr>\n",
       "  </tbody>\n",
       "</table>\n",
       "</div>"
      ],
      "text/plain": [
       "   Unnamed: 0        Id  OrderId  ProductId  UnitPrice  Quantity  Discount  \\\n",
       "0           0  10248/11    10248         11       14.0        12       0.0   \n",
       "1           1  10248/42    10248         42        9.8        10       0.0   \n",
       "2           2  10248/72    10248         72       34.8         5       0.0   \n",
       "3           3  10249/14    10249         14       18.6         9       0.0   \n",
       "4           4  10249/51    10249         51       42.4        40       0.0   \n",
       "\n",
       "   Discontinued  UnitsInStock  \n",
       "0             0            22  \n",
       "1             1            26  \n",
       "2             0            14  \n",
       "3             0            35  \n",
       "4             0            20  "
      ]
     },
     "execution_count": 25,
     "metadata": {},
     "output_type": "execute_result"
    }
   ],
   "source": [
    "ordersOOSDdf.drop(columns=[\"ProductId2\"], inplace=True)\n",
    "ordersOOSDdf.head()"
   ]
  },
  {
   "cell_type": "code",
   "execution_count": 34,
   "metadata": {},
   "outputs": [],
   "source": [
    "#calculate new columns: price and DiscontinuedOrOutOfStock, to add to Dataframe\n",
    "ordersOOSDdf[\"NotInStock\"] = [1 if(discontinue == 1 or inStock==0) else 0 for discontinue, inStock in zip(ordersOOSDdf.Discontinued, ordersOOSDdf.UnitsInStock)]"
   ]
  },
  {
   "cell_type": "code",
   "execution_count": 35,
   "metadata": {},
   "outputs": [
    {
     "data": {
      "text/html": [
       "<div>\n",
       "<style scoped>\n",
       "    .dataframe tbody tr th:only-of-type {\n",
       "        vertical-align: middle;\n",
       "    }\n",
       "\n",
       "    .dataframe tbody tr th {\n",
       "        vertical-align: top;\n",
       "    }\n",
       "\n",
       "    .dataframe thead th {\n",
       "        text-align: right;\n",
       "    }\n",
       "</style>\n",
       "<table border=\"1\" class=\"dataframe\">\n",
       "  <thead>\n",
       "    <tr style=\"text-align: right;\">\n",
       "      <th></th>\n",
       "      <th>Id</th>\n",
       "      <th>OrderId</th>\n",
       "      <th>ProductId</th>\n",
       "      <th>UnitPrice</th>\n",
       "      <th>Quantity</th>\n",
       "      <th>Discount</th>\n",
       "      <th>Discontinued</th>\n",
       "      <th>UnitsInStock</th>\n",
       "      <th>NotInStock</th>\n",
       "    </tr>\n",
       "  </thead>\n",
       "  <tbody>\n",
       "    <tr>\n",
       "      <th>0</th>\n",
       "      <td>10248/11</td>\n",
       "      <td>10248</td>\n",
       "      <td>11</td>\n",
       "      <td>14.0</td>\n",
       "      <td>12</td>\n",
       "      <td>0.0</td>\n",
       "      <td>0</td>\n",
       "      <td>22</td>\n",
       "      <td>0</td>\n",
       "    </tr>\n",
       "    <tr>\n",
       "      <th>1</th>\n",
       "      <td>10248/42</td>\n",
       "      <td>10248</td>\n",
       "      <td>42</td>\n",
       "      <td>9.8</td>\n",
       "      <td>10</td>\n",
       "      <td>0.0</td>\n",
       "      <td>1</td>\n",
       "      <td>26</td>\n",
       "      <td>1</td>\n",
       "    </tr>\n",
       "    <tr>\n",
       "      <th>2</th>\n",
       "      <td>10248/72</td>\n",
       "      <td>10248</td>\n",
       "      <td>72</td>\n",
       "      <td>34.8</td>\n",
       "      <td>5</td>\n",
       "      <td>0.0</td>\n",
       "      <td>0</td>\n",
       "      <td>14</td>\n",
       "      <td>0</td>\n",
       "    </tr>\n",
       "    <tr>\n",
       "      <th>3</th>\n",
       "      <td>10249/14</td>\n",
       "      <td>10249</td>\n",
       "      <td>14</td>\n",
       "      <td>18.6</td>\n",
       "      <td>9</td>\n",
       "      <td>0.0</td>\n",
       "      <td>0</td>\n",
       "      <td>35</td>\n",
       "      <td>0</td>\n",
       "    </tr>\n",
       "    <tr>\n",
       "      <th>4</th>\n",
       "      <td>10249/51</td>\n",
       "      <td>10249</td>\n",
       "      <td>51</td>\n",
       "      <td>42.4</td>\n",
       "      <td>40</td>\n",
       "      <td>0.0</td>\n",
       "      <td>0</td>\n",
       "      <td>20</td>\n",
       "      <td>0</td>\n",
       "    </tr>\n",
       "  </tbody>\n",
       "</table>\n",
       "</div>"
      ],
      "text/plain": [
       "         Id  OrderId  ProductId  UnitPrice  Quantity  Discount  Discontinued  \\\n",
       "0  10248/11    10248         11       14.0        12       0.0             0   \n",
       "1  10248/42    10248         42        9.8        10       0.0             1   \n",
       "2  10248/72    10248         72       34.8         5       0.0             0   \n",
       "3  10249/14    10249         14       18.6         9       0.0             0   \n",
       "4  10249/51    10249         51       42.4        40       0.0             0   \n",
       "\n",
       "   UnitsInStock  NotInStock  \n",
       "0            22           0  \n",
       "1            26           1  \n",
       "2            14           0  \n",
       "3            35           0  \n",
       "4            20           0  "
      ]
     },
     "execution_count": 35,
     "metadata": {},
     "output_type": "execute_result"
    }
   ],
   "source": [
    "ordersOOSDdf.head()"
   ]
  },
  {
   "cell_type": "code",
   "execution_count": 41,
   "metadata": {},
   "outputs": [
    {
     "data": {
      "text/plain": [
       "1    109\n",
       "0     51\n",
       "Name: Discontinued, dtype: int64"
      ]
     },
     "execution_count": 41,
     "metadata": {},
     "output_type": "execute_result"
    }
   ],
   "source": [
    "#For curiosity, how many UnitsInStock are 0 and have been Discontinued?\n",
    "ordersOOSDdf.query('UnitsInStock<1').Discontinued.value_counts()"
   ]
  },
  {
   "cell_type": "markdown",
   "metadata": {},
   "source": [
    "228 Id's have been discontinued and 160 have 0 in stock.  Of those with 0 in stock, 109 have been discontinued and 51 have not which makes (228+51=) 279 total not in stock or discontinued, out of 2155 records."
   ]
  },
  {
   "cell_type": "code",
   "execution_count": 49,
   "metadata": {},
   "outputs": [],
   "source": [
    "def calcPrice(mydisc, myqty, myunitprice):\n",
    "    return (1-mydisc)*myunitprice*myqty"
   ]
  },
  {
   "cell_type": "code",
   "execution_count": 51,
   "metadata": {},
   "outputs": [],
   "source": [
    "#adding a column for the price for each product for each order, using UnitPrice, Quantity and Discount\n",
    "ordersOOSDdf[\"Price\"] = [calcPrice(disc, qty, unitprice) for disc,qty,unitprice in zip(ordersOOSDdf.Discount, ordersOOSDdf.Quantity, ordersOOSDdf.UnitPrice)]"
   ]
  },
  {
   "cell_type": "code",
   "execution_count": 53,
   "metadata": {},
   "outputs": [
    {
     "data": {
      "text/html": [
       "<div>\n",
       "<style scoped>\n",
       "    .dataframe tbody tr th:only-of-type {\n",
       "        vertical-align: middle;\n",
       "    }\n",
       "\n",
       "    .dataframe tbody tr th {\n",
       "        vertical-align: top;\n",
       "    }\n",
       "\n",
       "    .dataframe thead th {\n",
       "        text-align: right;\n",
       "    }\n",
       "</style>\n",
       "<table border=\"1\" class=\"dataframe\">\n",
       "  <thead>\n",
       "    <tr style=\"text-align: right;\">\n",
       "      <th></th>\n",
       "      <th>Id</th>\n",
       "      <th>OrderId</th>\n",
       "      <th>ProductId</th>\n",
       "      <th>UnitPrice</th>\n",
       "      <th>Quantity</th>\n",
       "      <th>Discount</th>\n",
       "      <th>Discontinued</th>\n",
       "      <th>UnitsInStock</th>\n",
       "      <th>NotInStock</th>\n",
       "      <th>Price</th>\n",
       "    </tr>\n",
       "  </thead>\n",
       "  <tbody>\n",
       "    <tr>\n",
       "      <th>0</th>\n",
       "      <td>10248/11</td>\n",
       "      <td>10248</td>\n",
       "      <td>11</td>\n",
       "      <td>14.0</td>\n",
       "      <td>12</td>\n",
       "      <td>0.00</td>\n",
       "      <td>0</td>\n",
       "      <td>22</td>\n",
       "      <td>0</td>\n",
       "      <td>168.00</td>\n",
       "    </tr>\n",
       "    <tr>\n",
       "      <th>1</th>\n",
       "      <td>10248/42</td>\n",
       "      <td>10248</td>\n",
       "      <td>42</td>\n",
       "      <td>9.8</td>\n",
       "      <td>10</td>\n",
       "      <td>0.00</td>\n",
       "      <td>1</td>\n",
       "      <td>26</td>\n",
       "      <td>1</td>\n",
       "      <td>98.00</td>\n",
       "    </tr>\n",
       "    <tr>\n",
       "      <th>2</th>\n",
       "      <td>10248/72</td>\n",
       "      <td>10248</td>\n",
       "      <td>72</td>\n",
       "      <td>34.8</td>\n",
       "      <td>5</td>\n",
       "      <td>0.00</td>\n",
       "      <td>0</td>\n",
       "      <td>14</td>\n",
       "      <td>0</td>\n",
       "      <td>174.00</td>\n",
       "    </tr>\n",
       "    <tr>\n",
       "      <th>3</th>\n",
       "      <td>10249/14</td>\n",
       "      <td>10249</td>\n",
       "      <td>14</td>\n",
       "      <td>18.6</td>\n",
       "      <td>9</td>\n",
       "      <td>0.00</td>\n",
       "      <td>0</td>\n",
       "      <td>35</td>\n",
       "      <td>0</td>\n",
       "      <td>167.40</td>\n",
       "    </tr>\n",
       "    <tr>\n",
       "      <th>4</th>\n",
       "      <td>10249/51</td>\n",
       "      <td>10249</td>\n",
       "      <td>51</td>\n",
       "      <td>42.4</td>\n",
       "      <td>40</td>\n",
       "      <td>0.00</td>\n",
       "      <td>0</td>\n",
       "      <td>20</td>\n",
       "      <td>0</td>\n",
       "      <td>1696.00</td>\n",
       "    </tr>\n",
       "    <tr>\n",
       "      <th>5</th>\n",
       "      <td>10250/41</td>\n",
       "      <td>10250</td>\n",
       "      <td>41</td>\n",
       "      <td>7.7</td>\n",
       "      <td>10</td>\n",
       "      <td>0.00</td>\n",
       "      <td>0</td>\n",
       "      <td>85</td>\n",
       "      <td>0</td>\n",
       "      <td>77.00</td>\n",
       "    </tr>\n",
       "    <tr>\n",
       "      <th>6</th>\n",
       "      <td>10250/51</td>\n",
       "      <td>10250</td>\n",
       "      <td>51</td>\n",
       "      <td>42.4</td>\n",
       "      <td>35</td>\n",
       "      <td>0.15</td>\n",
       "      <td>0</td>\n",
       "      <td>20</td>\n",
       "      <td>0</td>\n",
       "      <td>1261.40</td>\n",
       "    </tr>\n",
       "    <tr>\n",
       "      <th>7</th>\n",
       "      <td>10250/65</td>\n",
       "      <td>10250</td>\n",
       "      <td>65</td>\n",
       "      <td>16.8</td>\n",
       "      <td>15</td>\n",
       "      <td>0.15</td>\n",
       "      <td>0</td>\n",
       "      <td>76</td>\n",
       "      <td>0</td>\n",
       "      <td>214.20</td>\n",
       "    </tr>\n",
       "    <tr>\n",
       "      <th>8</th>\n",
       "      <td>10251/22</td>\n",
       "      <td>10251</td>\n",
       "      <td>22</td>\n",
       "      <td>16.8</td>\n",
       "      <td>6</td>\n",
       "      <td>0.05</td>\n",
       "      <td>0</td>\n",
       "      <td>104</td>\n",
       "      <td>0</td>\n",
       "      <td>95.76</td>\n",
       "    </tr>\n",
       "    <tr>\n",
       "      <th>9</th>\n",
       "      <td>10251/57</td>\n",
       "      <td>10251</td>\n",
       "      <td>57</td>\n",
       "      <td>15.6</td>\n",
       "      <td>15</td>\n",
       "      <td>0.05</td>\n",
       "      <td>0</td>\n",
       "      <td>36</td>\n",
       "      <td>0</td>\n",
       "      <td>222.30</td>\n",
       "    </tr>\n",
       "  </tbody>\n",
       "</table>\n",
       "</div>"
      ],
      "text/plain": [
       "         Id  OrderId  ProductId  UnitPrice  Quantity  Discount  Discontinued  \\\n",
       "0  10248/11    10248         11       14.0        12      0.00             0   \n",
       "1  10248/42    10248         42        9.8        10      0.00             1   \n",
       "2  10248/72    10248         72       34.8         5      0.00             0   \n",
       "3  10249/14    10249         14       18.6         9      0.00             0   \n",
       "4  10249/51    10249         51       42.4        40      0.00             0   \n",
       "5  10250/41    10250         41        7.7        10      0.00             0   \n",
       "6  10250/51    10250         51       42.4        35      0.15             0   \n",
       "7  10250/65    10250         65       16.8        15      0.15             0   \n",
       "8  10251/22    10251         22       16.8         6      0.05             0   \n",
       "9  10251/57    10251         57       15.6        15      0.05             0   \n",
       "\n",
       "   UnitsInStock  NotInStock    Price  \n",
       "0            22           0   168.00  \n",
       "1            26           1    98.00  \n",
       "2            14           0   174.00  \n",
       "3            35           0   167.40  \n",
       "4            20           0  1696.00  \n",
       "5            85           0    77.00  \n",
       "6            20           0  1261.40  \n",
       "7            76           0   214.20  \n",
       "8           104           0    95.76  \n",
       "9            36           0   222.30  "
      ]
     },
     "execution_count": 53,
     "metadata": {},
     "output_type": "execute_result"
    }
   ],
   "source": [
    "ordersOOSDdf.head(10)"
   ]
  },
  {
   "cell_type": "code",
   "execution_count": 57,
   "metadata": {},
   "outputs": [],
   "source": [
    "#saving as .CSV for easy resuming later:\n",
    "import pandas as pd\n",
    "ordersOOSDdf.to_csv(path_or_buf=\"OrdersStockDisc.csv\")"
   ]
  },
  {
   "cell_type": "code",
   "execution_count": 1,
   "metadata": {},
   "outputs": [],
   "source": [
    "import pandas as pd\n",
    "ordersOOSDdf = pd.read_csv(\"OrdersStockDisc.csv\")\n",
    "ordersOOSDdf.drop(columns=[\"Unnamed: 0\"], inplace=True)\n",
    "ordersOOSDdf.info()"
   ]
  },
  {
   "cell_type": "code",
   "execution_count": 4,
   "metadata": {},
   "outputs": [
    {
     "data": {
      "text/html": [
       "<div>\n",
       "<style scoped>\n",
       "    .dataframe tbody tr th:only-of-type {\n",
       "        vertical-align: middle;\n",
       "    }\n",
       "\n",
       "    .dataframe tbody tr th {\n",
       "        vertical-align: top;\n",
       "    }\n",
       "\n",
       "    .dataframe thead th {\n",
       "        text-align: right;\n",
       "    }\n",
       "</style>\n",
       "<table border=\"1\" class=\"dataframe\">\n",
       "  <thead>\n",
       "    <tr style=\"text-align: right;\">\n",
       "      <th></th>\n",
       "      <th>Id</th>\n",
       "      <th>OrderId</th>\n",
       "      <th>ProductId</th>\n",
       "      <th>UnitPrice</th>\n",
       "      <th>Quantity</th>\n",
       "      <th>Discount</th>\n",
       "      <th>Discontinued</th>\n",
       "      <th>UnitsInStock</th>\n",
       "      <th>NotInStock</th>\n",
       "      <th>Price</th>\n",
       "    </tr>\n",
       "  </thead>\n",
       "  <tbody>\n",
       "    <tr>\n",
       "      <th>0</th>\n",
       "      <td>10248/11</td>\n",
       "      <td>10248</td>\n",
       "      <td>11</td>\n",
       "      <td>14.0</td>\n",
       "      <td>12</td>\n",
       "      <td>0.0</td>\n",
       "      <td>0</td>\n",
       "      <td>22</td>\n",
       "      <td>0</td>\n",
       "      <td>168.0</td>\n",
       "    </tr>\n",
       "    <tr>\n",
       "      <th>1</th>\n",
       "      <td>10248/42</td>\n",
       "      <td>10248</td>\n",
       "      <td>42</td>\n",
       "      <td>9.8</td>\n",
       "      <td>10</td>\n",
       "      <td>0.0</td>\n",
       "      <td>1</td>\n",
       "      <td>26</td>\n",
       "      <td>1</td>\n",
       "      <td>98.0</td>\n",
       "    </tr>\n",
       "    <tr>\n",
       "      <th>2</th>\n",
       "      <td>10248/72</td>\n",
       "      <td>10248</td>\n",
       "      <td>72</td>\n",
       "      <td>34.8</td>\n",
       "      <td>5</td>\n",
       "      <td>0.0</td>\n",
       "      <td>0</td>\n",
       "      <td>14</td>\n",
       "      <td>0</td>\n",
       "      <td>174.0</td>\n",
       "    </tr>\n",
       "    <tr>\n",
       "      <th>3</th>\n",
       "      <td>10249/14</td>\n",
       "      <td>10249</td>\n",
       "      <td>14</td>\n",
       "      <td>18.6</td>\n",
       "      <td>9</td>\n",
       "      <td>0.0</td>\n",
       "      <td>0</td>\n",
       "      <td>35</td>\n",
       "      <td>0</td>\n",
       "      <td>167.4</td>\n",
       "    </tr>\n",
       "    <tr>\n",
       "      <th>4</th>\n",
       "      <td>10249/51</td>\n",
       "      <td>10249</td>\n",
       "      <td>51</td>\n",
       "      <td>42.4</td>\n",
       "      <td>40</td>\n",
       "      <td>0.0</td>\n",
       "      <td>0</td>\n",
       "      <td>20</td>\n",
       "      <td>0</td>\n",
       "      <td>1696.0</td>\n",
       "    </tr>\n",
       "  </tbody>\n",
       "</table>\n",
       "</div>"
      ],
      "text/plain": [
       "         Id  OrderId  ProductId  UnitPrice  Quantity  Discount  Discontinued  \\\n",
       "0  10248/11    10248         11       14.0        12       0.0             0   \n",
       "1  10248/42    10248         42        9.8        10       0.0             1   \n",
       "2  10248/72    10248         72       34.8         5       0.0             0   \n",
       "3  10249/14    10249         14       18.6         9       0.0             0   \n",
       "4  10249/51    10249         51       42.4        40       0.0             0   \n",
       "\n",
       "   UnitsInStock  NotInStock   Price  \n",
       "0            22           0   168.0  \n",
       "1            26           1    98.0  \n",
       "2            14           0   174.0  \n",
       "3            35           0   167.4  \n",
       "4            20           0  1696.0  "
      ]
     },
     "execution_count": 4,
     "metadata": {},
     "output_type": "execute_result"
    }
   ],
   "source": [
    "ordersOOSDdf.head()"
   ]
  },
  {
   "cell_type": "code",
   "execution_count": 11,
   "metadata": {},
   "outputs": [],
   "source": [
    "#separate out each NotInStock, just with keeping track of Price\n",
    "unavail = [total for total, notstock in zip(ordersOOSDdf.Price, ordersOOSDdf.NotInStock) if notstock]\n",
    "available = [total for total, notstock in zip(ordersOOSDdf.Price, ordersOOSDdf.NotInStock) if not notstock]"
   ]
  },
  {
   "cell_type": "code",
   "execution_count": 18,
   "metadata": {},
   "outputs": [
    {
     "data": {
      "image/png": "[encoded data removed]",
      "text/plain": [
       "<Figure size 864x288 with 1 Axes>"
      ]
     },
     "metadata": {},
     "output_type": "display_data"
    },
    {
     "data": {
      "image/png": "[encoded data removed]",
      "text/plain": [
       "<Figure size 864x288 with 1 Axes>"
      ]
     },
     "metadata": {},
     "output_type": "display_data"
    }
   ],
   "source": [
    "import matplotlib.pyplot as plt\n",
    "%matplotlib inline\n",
    "plt.style.use(\"seaborn\")\n",
    "\n",
    "for each in [unavail, available]:\n",
    "    plt.figure(figsize=(12,4))\n",
    "    plt.hist(each)\n",
    "    plt.show()"
   ]
  },
  {
   "cell_type": "code",
   "execution_count": 20,
   "metadata": {},
   "outputs": [
    {
     "data": {
      "image/png": "[encoded data removed]",
      "text/plain": [
       "<Figure size 864x288 with 1 Axes>"
      ]
     },
     "metadata": {},
     "output_type": "display_data"
    },
    {
     "data": {
      "image/png": "[encoded data removed]",
      "text/plain": [
       "<Figure size 864x288 with 1 Axes>"
      ]
     },
     "metadata": {},
     "output_type": "display_data"
    }
   ],
   "source": [
    "#trying to graph the log\n",
    "import numpy as np\n",
    "lunavail = np.log(unavail)\n",
    "lavailable = np.log(available)\n",
    "for each in [lunavail, lavailable]:\n",
    "    plt.figure(figsize=(12,4))\n",
    "    plt.hist(each)\n",
    "    plt.show()"
   ]
  },
  {
   "cell_type": "markdown",
   "metadata": {},
   "source": [
    "Taking the logarithm of the two datasets gives normalized-looking data for both.\n",
    "\n",
    "Then, calculating effect size with the Cohen's *d* function."
   ]
  },
  {
   "cell_type": "code",
   "execution_count": 21,
   "metadata": {},
   "outputs": [],
   "source": [
    "def Cohen_d(group1, group2):\n",
    "    diff = abs(group1.mean() - group2.mean())#difference between means\n",
    "    var1 = group1.var()#variances\n",
    "    var2 = group2.var()\n",
    "    n1, n2 = len(group1), len(group2)\n",
    "    \n",
    "    #calculate the pooled threshold for the denominator\n",
    "    pooled_var = (n1*var1 + n2*var2)/(n1 + n2)\n",
    "    \n",
    "    #calculate Cohen's d statistic\n",
    "    d = diff / np.sqrt(pooled_var)\n",
    "    \n",
    "    return d"
   ]
  },
  {
   "cell_type": "code",
   "execution_count": 22,
   "metadata": {},
   "outputs": [
    {
     "data": {
      "text/plain": [
       "0.06598858429072513"
      ]
     },
     "execution_count": 22,
     "metadata": {},
     "output_type": "execute_result"
    }
   ],
   "source": [
    "#calculate effect size\n",
    "Cohen_d(lunavail, lavailable)"
   ]
  },
  {
   "cell_type": "markdown",
   "metadata": {},
   "source": [
    ".066 is a pretty small effect size so this means that whether a product is of out and/or has been discontinued barely affects the price paid for it"
   ]
  }
 ],
 "metadata": {
  "kernelspec": {
   "display_name": "Python 3",
   "language": "python",
   "name": "python3"
  },
  "language_info": {
   "codemirror_mode": {
    "name": "ipython",
    "version": 3
   },
   "file_extension": ".py",
   "mimetype": "text/x-python",
   "name": "python",
   "nbconvert_exporter": "python",
   "pygments_lexer": "ipython3",
   "version": "3.6.6"
  }
 },
 "nbformat": 4,
 "nbformat_minor": 2
}
